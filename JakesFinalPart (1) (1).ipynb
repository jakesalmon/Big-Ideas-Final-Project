{
 "cells": [
  {
   "cell_type": "code",
   "execution_count": 1,
   "metadata": {},
   "outputs": [],
   "source": [
    "import pandas as pd\n",
    "import numpy as np\n",
    "import matplotlib.pyplot as plt"
   ]
  },
  {
   "cell_type": "code",
   "execution_count": 2,
   "metadata": {},
   "outputs": [
    {
     "name": "stdout",
     "output_type": "stream",
     "text": [
      "/home/jupyter-cac326\n"
     ]
    }
   ],
   "source": [
    "cd"
   ]
  },
  {
   "cell_type": "markdown",
   "metadata": {},
   "source": [
    "# Introduction \n",
    "\n",
    "We will be using COVID cases/property value, arrest rates, and 311 report rates to quantitatively determine the best neighborhood in Pittsburgh. Property value is important to consider when buying a home, as investing in a profitable property is extremely beneficial. Arrest rates correlate with the safety of a neighborhood. 311 reports correlate with how well-maintained a neighborhood is.\n",
    "\n",
    "We will be using a standard scoring system to tally each neighborhood's ranking in each category, and subsequently find an overall ranking. "
   ]
  },
  {
   "cell_type": "markdown",
   "metadata": {},
   "source": [
    "## 1. Covid Cases vs Property Value"
   ]
  },
  {
   "cell_type": "markdown",
   "metadata": {},
   "source": [
    "In this analysis, I used the Covid Cases data set from WPRDC alongside the Property Value's from Zillow. I manually combined these values into a singular dataset where I was then able to compare the values of cases and values per month. There is a sample of 5 neighborhoods based on different attributes to get a wide spread of data including average income, population, and environment. We will see how the covid-19 pandemic impacted the real estate market in the last year. "
   ]
  },
  {
   "cell_type": "code",
   "execution_count": 34,
   "metadata": {},
   "outputs": [
    {
     "data": {
      "text/html": [
       "<div>\n",
       "<style scoped>\n",
       "    .dataframe tbody tr th:only-of-type {\n",
       "        vertical-align: middle;\n",
       "    }\n",
       "\n",
       "    .dataframe tbody tr th {\n",
       "        vertical-align: top;\n",
       "    }\n",
       "\n",
       "    .dataframe thead th {\n",
       "        text-align: right;\n",
       "    }\n",
       "</style>\n",
       "<table border=\"1\" class=\"dataframe\">\n",
       "  <thead>\n",
       "    <tr style=\"text-align: right;\">\n",
       "      <th></th>\n",
       "      <th>indv_id</th>\n",
       "      <th>collection_date</th>\n",
       "      <th>report_date</th>\n",
       "      <th>test_result</th>\n",
       "      <th>case_status</th>\n",
       "      <th>hospital_flag</th>\n",
       "      <th>icu_flag</th>\n",
       "      <th>vent_flag</th>\n",
       "      <th>age_bucket</th>\n",
       "      <th>sex</th>\n",
       "      <th>race</th>\n",
       "      <th>ethnicity</th>\n",
       "      <th>update_date</th>\n",
       "    </tr>\n",
       "  </thead>\n",
       "  <tbody>\n",
       "    <tr>\n",
       "      <th>0</th>\n",
       "      <td>46BFFA8D3596</td>\n",
       "      <td>2020-08-02</td>\n",
       "      <td>2020-08-03</td>\n",
       "      <td>Positive</td>\n",
       "      <td>Confirmed</td>\n",
       "      <td>N</td>\n",
       "      <td>N</td>\n",
       "      <td>N</td>\n",
       "      <td>30 to 39</td>\n",
       "      <td>M</td>\n",
       "      <td>Black/African American</td>\n",
       "      <td>Not Hispanic</td>\n",
       "      <td>2021-11-23</td>\n",
       "    </tr>\n",
       "    <tr>\n",
       "      <th>1</th>\n",
       "      <td>F02EDF3AC458</td>\n",
       "      <td>2020-04-06</td>\n",
       "      <td>2020-04-09</td>\n",
       "      <td>Negative</td>\n",
       "      <td>Not a case</td>\n",
       "      <td>NaN</td>\n",
       "      <td>NaN</td>\n",
       "      <td>NaN</td>\n",
       "      <td>20 to 29</td>\n",
       "      <td>F</td>\n",
       "      <td>Unknown</td>\n",
       "      <td>Unknown</td>\n",
       "      <td>2021-11-23</td>\n",
       "    </tr>\n",
       "    <tr>\n",
       "      <th>2</th>\n",
       "      <td>AECCD3335AE1</td>\n",
       "      <td>2021-04-22</td>\n",
       "      <td>2021-04-24</td>\n",
       "      <td>Negative</td>\n",
       "      <td>Not a case</td>\n",
       "      <td>NaN</td>\n",
       "      <td>NaN</td>\n",
       "      <td>NaN</td>\n",
       "      <td>40 to 49</td>\n",
       "      <td>F</td>\n",
       "      <td>White</td>\n",
       "      <td>Not Hispanic</td>\n",
       "      <td>2021-11-23</td>\n",
       "    </tr>\n",
       "    <tr>\n",
       "      <th>3</th>\n",
       "      <td>15EEADAD850B</td>\n",
       "      <td>2020-12-14</td>\n",
       "      <td>2020-12-15</td>\n",
       "      <td>Positive</td>\n",
       "      <td>Confirmed</td>\n",
       "      <td>N</td>\n",
       "      <td>N</td>\n",
       "      <td>N</td>\n",
       "      <td>70+</td>\n",
       "      <td>F</td>\n",
       "      <td>White</td>\n",
       "      <td>Not Hispanic</td>\n",
       "      <td>2021-11-23</td>\n",
       "    </tr>\n",
       "    <tr>\n",
       "      <th>4</th>\n",
       "      <td>9623C712D411</td>\n",
       "      <td>2020-10-13</td>\n",
       "      <td>2020-10-15</td>\n",
       "      <td>Negative</td>\n",
       "      <td>Not a case</td>\n",
       "      <td>NaN</td>\n",
       "      <td>NaN</td>\n",
       "      <td>NaN</td>\n",
       "      <td>10 to 19</td>\n",
       "      <td>M</td>\n",
       "      <td>Biracial/Multiracial</td>\n",
       "      <td>Not Hispanic</td>\n",
       "      <td>2021-11-23</td>\n",
       "    </tr>\n",
       "  </tbody>\n",
       "</table>\n",
       "</div>"
      ],
      "text/plain": [
       "        indv_id collection_date report_date test_result case_status  \\\n",
       "0  46BFFA8D3596      2020-08-02  2020-08-03    Positive   Confirmed   \n",
       "1  F02EDF3AC458      2020-04-06  2020-04-09    Negative  Not a case   \n",
       "2  AECCD3335AE1      2021-04-22  2021-04-24    Negative  Not a case   \n",
       "3  15EEADAD850B      2020-12-14  2020-12-15    Positive   Confirmed   \n",
       "4  9623C712D411      2020-10-13  2020-10-15    Negative  Not a case   \n",
       "\n",
       "  hospital_flag icu_flag vent_flag age_bucket sex                    race  \\\n",
       "0             N        N         N   30 to 39   M  Black/African American   \n",
       "1           NaN      NaN       NaN   20 to 29   F                 Unknown   \n",
       "2           NaN      NaN       NaN   40 to 49   F                   White   \n",
       "3             N        N         N        70+   F                   White   \n",
       "4           NaN      NaN       NaN   10 to 19   M    Biracial/Multiracial   \n",
       "\n",
       "      ethnicity update_date  \n",
       "0  Not Hispanic  2021-11-23  \n",
       "1       Unknown  2021-11-23  \n",
       "2  Not Hispanic  2021-11-23  \n",
       "3  Not Hispanic  2021-11-23  \n",
       "4  Not Hispanic  2021-11-23  "
      ]
     },
     "execution_count": 34,
     "metadata": {},
     "output_type": "execute_result"
    }
   ],
   "source": [
    "df1 = pd.read_csv(\"covid.csv\")\n",
    "df1.head()"
   ]
  },
  {
   "cell_type": "code",
   "execution_count": 5,
   "metadata": {},
   "outputs": [],
   "source": [
    "df2 = df1.rename(columns={'Avg Home Values in 1000s': 'Value'})"
   ]
  },
  {
   "cell_type": "code",
   "execution_count": 6,
   "metadata": {},
   "outputs": [
    {
     "data": {
      "text/plain": [
       "<_io.TextIOWrapper name='Final-Project/Data/df2 - Sheet1.csv' mode='r' encoding='UTF-8'>"
      ]
     },
     "execution_count": 6,
     "metadata": {},
     "output_type": "execute_result"
    }
   ],
   "source": [
    "open(\"Final-Project/Data/df2 - Sheet1.csv\")"
   ]
  },
  {
   "cell_type": "code",
   "execution_count": 7,
   "metadata": {},
   "outputs": [],
   "source": [
    "df2 = pd.read_csv(\"Final-Project/Data/df2 - Sheet1.csv\")\n"
   ]
  },
  {
   "cell_type": "code",
   "execution_count": 8,
   "metadata": {},
   "outputs": [],
   "source": [
    "df2 = df2.rename(columns={'Avg Home Values in 1000s': 'Value'})"
   ]
  },
  {
   "cell_type": "markdown",
   "metadata": {},
   "source": [
    "### Central Business District"
   ]
  },
  {
   "cell_type": "code",
   "execution_count": 9,
   "metadata": {},
   "outputs": [
    {
     "data": {
      "text/html": [
       "<div>\n",
       "<style scoped>\n",
       "    .dataframe tbody tr th:only-of-type {\n",
       "        vertical-align: middle;\n",
       "    }\n",
       "\n",
       "    .dataframe tbody tr th {\n",
       "        vertical-align: top;\n",
       "    }\n",
       "\n",
       "    .dataframe thead th {\n",
       "        text-align: right;\n",
       "    }\n",
       "</style>\n",
       "<table border=\"1\" class=\"dataframe\">\n",
       "  <thead>\n",
       "    <tr style=\"text-align: right;\">\n",
       "      <th></th>\n",
       "      <th>Neighborhood</th>\n",
       "      <th>Date</th>\n",
       "      <th>Cases</th>\n",
       "      <th>Value</th>\n",
       "    </tr>\n",
       "  </thead>\n",
       "  <tbody>\n",
       "    <tr>\n",
       "      <th>0</th>\n",
       "      <td>Central Business District</td>\n",
       "      <td>01/2021</td>\n",
       "      <td>59</td>\n",
       "      <td>313</td>\n",
       "    </tr>\n",
       "    <tr>\n",
       "      <th>1</th>\n",
       "      <td>Central Business District</td>\n",
       "      <td>02/2021</td>\n",
       "      <td>28</td>\n",
       "      <td>312</td>\n",
       "    </tr>\n",
       "    <tr>\n",
       "      <th>2</th>\n",
       "      <td>Central Business District</td>\n",
       "      <td>03/2021</td>\n",
       "      <td>37</td>\n",
       "      <td>310</td>\n",
       "    </tr>\n",
       "    <tr>\n",
       "      <th>3</th>\n",
       "      <td>Central Business District</td>\n",
       "      <td>04/2021</td>\n",
       "      <td>53</td>\n",
       "      <td>309</td>\n",
       "    </tr>\n",
       "    <tr>\n",
       "      <th>4</th>\n",
       "      <td>Central Business District</td>\n",
       "      <td>05/2021</td>\n",
       "      <td>16</td>\n",
       "      <td>311</td>\n",
       "    </tr>\n",
       "    <tr>\n",
       "      <th>5</th>\n",
       "      <td>Central Business District</td>\n",
       "      <td>06/2021</td>\n",
       "      <td>6</td>\n",
       "      <td>316</td>\n",
       "    </tr>\n",
       "    <tr>\n",
       "      <th>6</th>\n",
       "      <td>Central Business District</td>\n",
       "      <td>07/2021</td>\n",
       "      <td>7</td>\n",
       "      <td>321</td>\n",
       "    </tr>\n",
       "    <tr>\n",
       "      <th>7</th>\n",
       "      <td>Central Business District</td>\n",
       "      <td>08/2021</td>\n",
       "      <td>39</td>\n",
       "      <td>323</td>\n",
       "    </tr>\n",
       "    <tr>\n",
       "      <th>8</th>\n",
       "      <td>Central Business District</td>\n",
       "      <td>09/2021</td>\n",
       "      <td>56</td>\n",
       "      <td>324</td>\n",
       "    </tr>\n",
       "    <tr>\n",
       "      <th>9</th>\n",
       "      <td>Central Business District</td>\n",
       "      <td>10/2021</td>\n",
       "      <td>28</td>\n",
       "      <td>325</td>\n",
       "    </tr>\n",
       "  </tbody>\n",
       "</table>\n",
       "</div>"
      ],
      "text/plain": [
       "                Neighborhood     Date  Cases  Value\n",
       "0  Central Business District  01/2021     59    313\n",
       "1  Central Business District  02/2021     28    312\n",
       "2  Central Business District  03/2021     37    310\n",
       "3  Central Business District  04/2021     53    309\n",
       "4  Central Business District  05/2021     16    311\n",
       "5  Central Business District  06/2021      6    316\n",
       "6  Central Business District  07/2021      7    321\n",
       "7  Central Business District  08/2021     39    323\n",
       "8  Central Business District  09/2021     56    324\n",
       "9  Central Business District  10/2021     28    325"
      ]
     },
     "execution_count": 9,
     "metadata": {},
     "output_type": "execute_result"
    }
   ],
   "source": [
    "CBD = df2[df2['Neighborhood'].str.contains(\"Central Business District\", na=False)]\n",
    "CBD"
   ]
  },
  {
   "cell_type": "code",
   "execution_count": 10,
   "metadata": {},
   "outputs": [
    {
     "data": {
      "image/png": "[encoded data removed]",
      "text/plain": [
       "<Figure size 432x288 with 1 Axes>"
      ]
     },
     "metadata": {
      "needs_background": "light"
     },
     "output_type": "display_data"
    }
   ],
   "source": [
    "CBD_cases = CBD.plot.bar(x='Date', y='Cases', rot=50)"
   ]
  },
  {
   "cell_type": "code",
   "execution_count": 11,
   "metadata": {},
   "outputs": [
    {
     "data": {
      "image/png": "[encoded data removed]",
      "text/plain": [
       "<Figure size 432x288 with 1 Axes>"
      ]
     },
     "metadata": {
      "needs_background": "light"
     },
     "output_type": "display_data"
    }
   ],
   "source": [
    "CBD_values = CBD.plot.bar(x='Date', y='Value', rot=50)\n"
   ]
  },
  {
   "cell_type": "code",
   "execution_count": 12,
   "metadata": {},
   "outputs": [
    {
     "data": {
      "text/plain": [
       "<matplotlib.axes._subplots.AxesSubplot at 0x7fc0109eaa30>"
      ]
     },
     "execution_count": 12,
     "metadata": {},
     "output_type": "execute_result"
    },
    {
     "data": {
      "image/png": "[encoded data removed]",
      "text/plain": [
       "<Figure size 1296x360 with 1 Axes>"
      ]
     },
     "metadata": {
      "needs_background": "light"
     },
     "output_type": "display_data"
    }
   ],
   "source": [
    "CBD.plot(figsize=(18,5))"
   ]
  },
  {
   "cell_type": "markdown",
   "metadata": {},
   "source": [
    "### Oakland"
   ]
  },
  {
   "cell_type": "code",
   "execution_count": 13,
   "metadata": {},
   "outputs": [
    {
     "data": {
      "text/html": [
       "<div>\n",
       "<style scoped>\n",
       "    .dataframe tbody tr th:only-of-type {\n",
       "        vertical-align: middle;\n",
       "    }\n",
       "\n",
       "    .dataframe tbody tr th {\n",
       "        vertical-align: top;\n",
       "    }\n",
       "\n",
       "    .dataframe thead th {\n",
       "        text-align: right;\n",
       "    }\n",
       "</style>\n",
       "<table border=\"1\" class=\"dataframe\">\n",
       "  <thead>\n",
       "    <tr style=\"text-align: right;\">\n",
       "      <th></th>\n",
       "      <th>Neighborhood</th>\n",
       "      <th>Date</th>\n",
       "      <th>Cases</th>\n",
       "      <th>Value</th>\n",
       "    </tr>\n",
       "  </thead>\n",
       "  <tbody>\n",
       "    <tr>\n",
       "      <th>10</th>\n",
       "      <td>Central Oakland</td>\n",
       "      <td>01/2021</td>\n",
       "      <td>57</td>\n",
       "      <td>202</td>\n",
       "    </tr>\n",
       "    <tr>\n",
       "      <th>11</th>\n",
       "      <td>Central Oakland</td>\n",
       "      <td>02/2021</td>\n",
       "      <td>15</td>\n",
       "      <td>203</td>\n",
       "    </tr>\n",
       "    <tr>\n",
       "      <th>12</th>\n",
       "      <td>Central Oakland</td>\n",
       "      <td>03/2021</td>\n",
       "      <td>41</td>\n",
       "      <td>204</td>\n",
       "    </tr>\n",
       "    <tr>\n",
       "      <th>13</th>\n",
       "      <td>Central Oakland</td>\n",
       "      <td>04/2021</td>\n",
       "      <td>72</td>\n",
       "      <td>208</td>\n",
       "    </tr>\n",
       "    <tr>\n",
       "      <th>14</th>\n",
       "      <td>Central Oakland</td>\n",
       "      <td>05/2021</td>\n",
       "      <td>10</td>\n",
       "      <td>216</td>\n",
       "    </tr>\n",
       "    <tr>\n",
       "      <th>15</th>\n",
       "      <td>Central Oakland</td>\n",
       "      <td>06/2021</td>\n",
       "      <td>0</td>\n",
       "      <td>223</td>\n",
       "    </tr>\n",
       "    <tr>\n",
       "      <th>16</th>\n",
       "      <td>Central Oakland</td>\n",
       "      <td>07/2021</td>\n",
       "      <td>1</td>\n",
       "      <td>229</td>\n",
       "    </tr>\n",
       "    <tr>\n",
       "      <th>17</th>\n",
       "      <td>Central Oakland</td>\n",
       "      <td>08/2021</td>\n",
       "      <td>26</td>\n",
       "      <td>232</td>\n",
       "    </tr>\n",
       "    <tr>\n",
       "      <th>18</th>\n",
       "      <td>Central Oakland</td>\n",
       "      <td>09/2021</td>\n",
       "      <td>29</td>\n",
       "      <td>234</td>\n",
       "    </tr>\n",
       "    <tr>\n",
       "      <th>19</th>\n",
       "      <td>Central Oakland</td>\n",
       "      <td>10/2021</td>\n",
       "      <td>10</td>\n",
       "      <td>234</td>\n",
       "    </tr>\n",
       "  </tbody>\n",
       "</table>\n",
       "</div>"
      ],
      "text/plain": [
       "        Neighborhood     Date  Cases  Value\n",
       "10  Central Oakland   01/2021     57    202\n",
       "11   Central Oakland  02/2021     15    203\n",
       "12   Central Oakland  03/2021     41    204\n",
       "13   Central Oakland  04/2021     72    208\n",
       "14   Central Oakland  05/2021     10    216\n",
       "15   Central Oakland  06/2021      0    223\n",
       "16   Central Oakland  07/2021      1    229\n",
       "17   Central Oakland  08/2021     26    232\n",
       "18   Central Oakland  09/2021     29    234\n",
       "19   Central Oakland  10/2021     10    234"
      ]
     },
     "execution_count": 13,
     "metadata": {},
     "output_type": "execute_result"
    }
   ],
   "source": [
    "Oakland = df2[df2['Neighborhood'].str.contains(\"Central Oakland\", na=False)]\n",
    "Oakland"
   ]
  },
  {
   "cell_type": "code",
   "execution_count": 14,
   "metadata": {},
   "outputs": [
    {
     "data": {
      "image/png": "[encoded data removed]",
      "text/plain": [
       "<Figure size 432x288 with 1 Axes>"
      ]
     },
     "metadata": {
      "needs_background": "light"
     },
     "output_type": "display_data"
    }
   ],
   "source": [
    "Oakland_cases = Oakland.plot.bar(x='Date', y='Cases', rot=50)"
   ]
  },
  {
   "cell_type": "code",
   "execution_count": 15,
   "metadata": {},
   "outputs": [
    {
     "data": {
      "image/png": "[encoded data removed]",
      "text/plain": [
       "<Figure size 432x288 with 1 Axes>"
      ]
     },
     "metadata": {
      "needs_background": "light"
     },
     "output_type": "display_data"
    }
   ],
   "source": [
    "Oakland_values = Oakland.plot.bar(x='Date', y='Value', rot=50)"
   ]
  },
  {
   "cell_type": "code",
   "execution_count": 16,
   "metadata": {},
   "outputs": [
    {
     "data": {
      "text/plain": [
       "<matplotlib.axes._subplots.AxesSubplot at 0x7fc010a34130>"
      ]
     },
     "execution_count": 16,
     "metadata": {},
     "output_type": "execute_result"
    },
    {
     "data": {
      "image/png": "[encoded data removed]",
      "text/plain": [
       "<Figure size 1296x360 with 1 Axes>"
      ]
     },
     "metadata": {
      "needs_background": "light"
     },
     "output_type": "display_data"
    }
   ],
   "source": [
    "Oakland.plot(figsize=(18,5))"
   ]
  },
  {
   "cell_type": "markdown",
   "metadata": {},
   "source": [
    "### South Side"
   ]
  },
  {
   "cell_type": "code",
   "execution_count": 17,
   "metadata": {},
   "outputs": [
    {
     "data": {
      "text/html": [
       "<div>\n",
       "<style scoped>\n",
       "    .dataframe tbody tr th:only-of-type {\n",
       "        vertical-align: middle;\n",
       "    }\n",
       "\n",
       "    .dataframe tbody tr th {\n",
       "        vertical-align: top;\n",
       "    }\n",
       "\n",
       "    .dataframe thead th {\n",
       "        text-align: right;\n",
       "    }\n",
       "</style>\n",
       "<table border=\"1\" class=\"dataframe\">\n",
       "  <thead>\n",
       "    <tr style=\"text-align: right;\">\n",
       "      <th></th>\n",
       "      <th>Neighborhood</th>\n",
       "      <th>Date</th>\n",
       "      <th>Cases</th>\n",
       "      <th>Value</th>\n",
       "    </tr>\n",
       "  </thead>\n",
       "  <tbody>\n",
       "    <tr>\n",
       "      <th>20</th>\n",
       "      <td>South Side</td>\n",
       "      <td>01/2021</td>\n",
       "      <td>95</td>\n",
       "      <td>260</td>\n",
       "    </tr>\n",
       "    <tr>\n",
       "      <th>21</th>\n",
       "      <td>South Side</td>\n",
       "      <td>02/2021</td>\n",
       "      <td>59</td>\n",
       "      <td>261</td>\n",
       "    </tr>\n",
       "    <tr>\n",
       "      <th>22</th>\n",
       "      <td>South Side</td>\n",
       "      <td>03/2021</td>\n",
       "      <td>103</td>\n",
       "      <td>262</td>\n",
       "    </tr>\n",
       "    <tr>\n",
       "      <th>23</th>\n",
       "      <td>South Side</td>\n",
       "      <td>04/2021</td>\n",
       "      <td>98</td>\n",
       "      <td>262</td>\n",
       "    </tr>\n",
       "    <tr>\n",
       "      <th>24</th>\n",
       "      <td>South Side</td>\n",
       "      <td>05/2021</td>\n",
       "      <td>24</td>\n",
       "      <td>266</td>\n",
       "    </tr>\n",
       "    <tr>\n",
       "      <th>25</th>\n",
       "      <td>South Side</td>\n",
       "      <td>06/2021</td>\n",
       "      <td>4</td>\n",
       "      <td>270</td>\n",
       "    </tr>\n",
       "    <tr>\n",
       "      <th>26</th>\n",
       "      <td>South Side</td>\n",
       "      <td>07/2021</td>\n",
       "      <td>17</td>\n",
       "      <td>273</td>\n",
       "    </tr>\n",
       "    <tr>\n",
       "      <th>27</th>\n",
       "      <td>South Side</td>\n",
       "      <td>08/2021</td>\n",
       "      <td>66</td>\n",
       "      <td>276</td>\n",
       "    </tr>\n",
       "    <tr>\n",
       "      <th>28</th>\n",
       "      <td>South Side</td>\n",
       "      <td>09/2021</td>\n",
       "      <td>63</td>\n",
       "      <td>278</td>\n",
       "    </tr>\n",
       "    <tr>\n",
       "      <th>29</th>\n",
       "      <td>South Side</td>\n",
       "      <td>10/2021</td>\n",
       "      <td>30</td>\n",
       "      <td>279</td>\n",
       "    </tr>\n",
       "  </tbody>\n",
       "</table>\n",
       "</div>"
      ],
      "text/plain": [
       "   Neighborhood     Date  Cases  Value\n",
       "20  South Side   01/2021     95    260\n",
       "21   South Side  02/2021     59    261\n",
       "22   South Side  03/2021    103    262\n",
       "23   South Side  04/2021     98    262\n",
       "24   South Side  05/2021     24    266\n",
       "25   South Side  06/2021      4    270\n",
       "26   South Side  07/2021     17    273\n",
       "27   South Side  08/2021     66    276\n",
       "28   South Side  09/2021     63    278\n",
       "29   South Side  10/2021     30    279"
      ]
     },
     "execution_count": 17,
     "metadata": {},
     "output_type": "execute_result"
    }
   ],
   "source": [
    "SouthSide = df2[df2['Neighborhood'].str.contains(\"South Side\", na=False)]\n",
    "SouthSide"
   ]
  },
  {
   "cell_type": "code",
   "execution_count": 18,
   "metadata": {},
   "outputs": [
    {
     "data": {
      "image/png": "[encoded data removed]",
      "text/plain": [
       "<Figure size 432x288 with 1 Axes>"
      ]
     },
     "metadata": {
      "needs_background": "light"
     },
     "output_type": "display_data"
    }
   ],
   "source": [
    "SouthSide_cases = SouthSide.plot.bar(x='Date', y='Cases', rot=50)"
   ]
  },
  {
   "cell_type": "code",
   "execution_count": 19,
   "metadata": {},
   "outputs": [
    {
     "data": {
      "image/png": "[encoded data removed]",
      "text/plain": [
       "<Figure size 432x288 with 1 Axes>"
      ]
     },
     "metadata": {
      "needs_background": "light"
     },
     "output_type": "display_data"
    }
   ],
   "source": [
    "SouthSide_values = SouthSide.plot.bar(x='Date', y='Value', rot=50)"
   ]
  },
  {
   "cell_type": "code",
   "execution_count": 20,
   "metadata": {},
   "outputs": [
    {
     "data": {
      "text/plain": [
       "<matplotlib.axes._subplots.AxesSubplot at 0x7fc01080ffa0>"
      ]
     },
     "execution_count": 20,
     "metadata": {},
     "output_type": "execute_result"
    },
    {
     "data": {
      "image/png": "[encoded data removed]",
      "text/plain": [
       "<Figure size 1296x360 with 1 Axes>"
      ]
     },
     "metadata": {
      "needs_background": "light"
     },
     "output_type": "display_data"
    }
   ],
   "source": [
    "SouthSide.plot(figsize=(18,5))"
   ]
  },
  {
   "cell_type": "markdown",
   "metadata": {},
   "source": [
    "### Shadyside"
   ]
  },
  {
   "cell_type": "code",
   "execution_count": 21,
   "metadata": {},
   "outputs": [
    {
     "data": {
      "text/html": [
       "<div>\n",
       "<style scoped>\n",
       "    .dataframe tbody tr th:only-of-type {\n",
       "        vertical-align: middle;\n",
       "    }\n",
       "\n",
       "    .dataframe tbody tr th {\n",
       "        vertical-align: top;\n",
       "    }\n",
       "\n",
       "    .dataframe thead th {\n",
       "        text-align: right;\n",
       "    }\n",
       "</style>\n",
       "<table border=\"1\" class=\"dataframe\">\n",
       "  <thead>\n",
       "    <tr style=\"text-align: right;\">\n",
       "      <th></th>\n",
       "      <th>Neighborhood</th>\n",
       "      <th>Date</th>\n",
       "      <th>Cases</th>\n",
       "      <th>Value</th>\n",
       "    </tr>\n",
       "  </thead>\n",
       "  <tbody>\n",
       "    <tr>\n",
       "      <th>30</th>\n",
       "      <td>Shadyside</td>\n",
       "      <td>01/2021</td>\n",
       "      <td>101</td>\n",
       "      <td>426</td>\n",
       "    </tr>\n",
       "    <tr>\n",
       "      <th>31</th>\n",
       "      <td>Shadyside</td>\n",
       "      <td>02/2021</td>\n",
       "      <td>72</td>\n",
       "      <td>429</td>\n",
       "    </tr>\n",
       "    <tr>\n",
       "      <th>32</th>\n",
       "      <td>Shadyside</td>\n",
       "      <td>03/2021</td>\n",
       "      <td>65</td>\n",
       "      <td>433</td>\n",
       "    </tr>\n",
       "    <tr>\n",
       "      <th>33</th>\n",
       "      <td>Shadyside</td>\n",
       "      <td>04/2021</td>\n",
       "      <td>73</td>\n",
       "      <td>436</td>\n",
       "    </tr>\n",
       "    <tr>\n",
       "      <th>34</th>\n",
       "      <td>Shadyside</td>\n",
       "      <td>05/2021</td>\n",
       "      <td>33</td>\n",
       "      <td>443</td>\n",
       "    </tr>\n",
       "    <tr>\n",
       "      <th>35</th>\n",
       "      <td>Shadyside</td>\n",
       "      <td>06/2021</td>\n",
       "      <td>8</td>\n",
       "      <td>450</td>\n",
       "    </tr>\n",
       "    <tr>\n",
       "      <th>36</th>\n",
       "      <td>Shadyside</td>\n",
       "      <td>07/2021</td>\n",
       "      <td>17</td>\n",
       "      <td>455</td>\n",
       "    </tr>\n",
       "    <tr>\n",
       "      <th>37</th>\n",
       "      <td>Shadyside</td>\n",
       "      <td>08/2021</td>\n",
       "      <td>53</td>\n",
       "      <td>457</td>\n",
       "    </tr>\n",
       "    <tr>\n",
       "      <th>38</th>\n",
       "      <td>Shadyside</td>\n",
       "      <td>09/2021</td>\n",
       "      <td>95</td>\n",
       "      <td>458</td>\n",
       "    </tr>\n",
       "    <tr>\n",
       "      <th>39</th>\n",
       "      <td>Shadyside</td>\n",
       "      <td>10/2021</td>\n",
       "      <td>61</td>\n",
       "      <td>458</td>\n",
       "    </tr>\n",
       "  </tbody>\n",
       "</table>\n",
       "</div>"
      ],
      "text/plain": [
       "   Neighborhood     Date  Cases  Value\n",
       "30   Shadyside   01/2021    101    426\n",
       "31    Shadyside  02/2021     72    429\n",
       "32    Shadyside  03/2021     65    433\n",
       "33    Shadyside  04/2021     73    436\n",
       "34    Shadyside  05/2021     33    443\n",
       "35    Shadyside  06/2021      8    450\n",
       "36    Shadyside  07/2021     17    455\n",
       "37    Shadyside  08/2021     53    457\n",
       "38    Shadyside  09/2021     95    458\n",
       "39    Shadyside  10/2021     61    458"
      ]
     },
     "execution_count": 21,
     "metadata": {},
     "output_type": "execute_result"
    }
   ],
   "source": [
    "Shadyside = df2[df2['Neighborhood'].str.contains(\"Shadyside\", na=False)]\n",
    "Shadyside"
   ]
  },
  {
   "cell_type": "code",
   "execution_count": 22,
   "metadata": {},
   "outputs": [
    {
     "data": {
      "image/png": "[encoded data removed]",
      "text/plain": [
       "<Figure size 432x288 with 1 Axes>"
      ]
     },
     "metadata": {
      "needs_background": "light"
     },
     "output_type": "display_data"
    }
   ],
   "source": [
    "Shadyside_cases = Shadyside.plot.bar(x='Date', y='Cases', rot=50)"
   ]
  },
  {
   "cell_type": "code",
   "execution_count": 23,
   "metadata": {},
   "outputs": [
    {
     "data": {
      "image/png": "[encoded data removed]",
      "text/plain": [
       "<Figure size 432x288 with 1 Axes>"
      ]
     },
     "metadata": {
      "needs_background": "light"
     },
     "output_type": "display_data"
    }
   ],
   "source": [
    "Shadyside_values = Shadyside.plot.bar(x='Date',y='Value', rot=50)"
   ]
  },
  {
   "cell_type": "code",
   "execution_count": 24,
   "metadata": {},
   "outputs": [
    {
     "data": {
      "text/plain": [
       "<matplotlib.axes._subplots.AxesSubplot at 0x7fc010621f40>"
      ]
     },
     "execution_count": 24,
     "metadata": {},
     "output_type": "execute_result"
    },
    {
     "data": {
      "image/png": "[encoded data removed]",
      "text/plain": [
       "<Figure size 1296x360 with 1 Axes>"
      ]
     },
     "metadata": {
      "needs_background": "light"
     },
     "output_type": "display_data"
    }
   ],
   "source": [
    "Shadyside.plot(figsize=(18,5))"
   ]
  },
  {
   "cell_type": "code",
   "execution_count": 25,
   "metadata": {},
   "outputs": [],
   "source": [
    "from sklearn.linear_model import LinearRegression"
   ]
  },
  {
   "cell_type": "markdown",
   "metadata": {},
   "source": [
    "### Homewood"
   ]
  },
  {
   "cell_type": "code",
   "execution_count": 26,
   "metadata": {},
   "outputs": [
    {
     "data": {
      "text/html": [
       "<div>\n",
       "<style scoped>\n",
       "    .dataframe tbody tr th:only-of-type {\n",
       "        vertical-align: middle;\n",
       "    }\n",
       "\n",
       "    .dataframe tbody tr th {\n",
       "        vertical-align: top;\n",
       "    }\n",
       "\n",
       "    .dataframe thead th {\n",
       "        text-align: right;\n",
       "    }\n",
       "</style>\n",
       "<table border=\"1\" class=\"dataframe\">\n",
       "  <thead>\n",
       "    <tr style=\"text-align: right;\">\n",
       "      <th></th>\n",
       "      <th>Neighborhood</th>\n",
       "      <th>Date</th>\n",
       "      <th>Cases</th>\n",
       "      <th>Value</th>\n",
       "    </tr>\n",
       "  </thead>\n",
       "  <tbody>\n",
       "    <tr>\n",
       "      <th>40</th>\n",
       "      <td>Homewood</td>\n",
       "      <td>01/2021</td>\n",
       "      <td>20</td>\n",
       "      <td>58</td>\n",
       "    </tr>\n",
       "    <tr>\n",
       "      <th>41</th>\n",
       "      <td>Homewood</td>\n",
       "      <td>02/2021</td>\n",
       "      <td>13</td>\n",
       "      <td>60</td>\n",
       "    </tr>\n",
       "    <tr>\n",
       "      <th>42</th>\n",
       "      <td>Homewood</td>\n",
       "      <td>03/2021</td>\n",
       "      <td>27</td>\n",
       "      <td>60</td>\n",
       "    </tr>\n",
       "    <tr>\n",
       "      <th>43</th>\n",
       "      <td>Homewood</td>\n",
       "      <td>04/2021</td>\n",
       "      <td>43</td>\n",
       "      <td>61</td>\n",
       "    </tr>\n",
       "    <tr>\n",
       "      <th>44</th>\n",
       "      <td>Homewood</td>\n",
       "      <td>05/2021</td>\n",
       "      <td>8</td>\n",
       "      <td>62</td>\n",
       "    </tr>\n",
       "    <tr>\n",
       "      <th>45</th>\n",
       "      <td>Homewood</td>\n",
       "      <td>06/2021</td>\n",
       "      <td>1</td>\n",
       "      <td>63</td>\n",
       "    </tr>\n",
       "    <tr>\n",
       "      <th>46</th>\n",
       "      <td>Homewood</td>\n",
       "      <td>07/2021</td>\n",
       "      <td>1</td>\n",
       "      <td>61</td>\n",
       "    </tr>\n",
       "    <tr>\n",
       "      <th>47</th>\n",
       "      <td>Homewood</td>\n",
       "      <td>08/2021</td>\n",
       "      <td>9</td>\n",
       "      <td>58</td>\n",
       "    </tr>\n",
       "    <tr>\n",
       "      <th>48</th>\n",
       "      <td>Homewood</td>\n",
       "      <td>09/2021</td>\n",
       "      <td>28</td>\n",
       "      <td>56</td>\n",
       "    </tr>\n",
       "    <tr>\n",
       "      <th>49</th>\n",
       "      <td>Homewood</td>\n",
       "      <td>10/2021</td>\n",
       "      <td>25</td>\n",
       "      <td>57</td>\n",
       "    </tr>\n",
       "  </tbody>\n",
       "</table>\n",
       "</div>"
      ],
      "text/plain": [
       "   Neighborhood     Date  Cases  Value\n",
       "40     Homewood  01/2021     20     58\n",
       "41     Homewood  02/2021     13     60\n",
       "42     Homewood  03/2021     27     60\n",
       "43     Homewood  04/2021     43     61\n",
       "44     Homewood  05/2021      8     62\n",
       "45     Homewood  06/2021      1     63\n",
       "46     Homewood  07/2021      1     61\n",
       "47     Homewood  08/2021      9     58\n",
       "48     Homewood  09/2021     28     56\n",
       "49     Homewood  10/2021     25     57"
      ]
     },
     "execution_count": 26,
     "metadata": {},
     "output_type": "execute_result"
    }
   ],
   "source": [
    "Homewood = df2[df2['Neighborhood'].str.contains(\"Homewood\", na=False)]\n",
    "Homewood"
   ]
  },
  {
   "cell_type": "code",
   "execution_count": 27,
   "metadata": {},
   "outputs": [
    {
     "data": {
      "image/png": "[encoded data removed]",
      "text/plain": [
       "<Figure size 432x288 with 1 Axes>"
      ]
     },
     "metadata": {
      "needs_background": "light"
     },
     "output_type": "display_data"
    }
   ],
   "source": [
    "ax = Homewood.plot.bar(x='Date', y='Cases', rot=50)"
   ]
  },
  {
   "cell_type": "code",
   "execution_count": 28,
   "metadata": {},
   "outputs": [
    {
     "data": {
      "image/png": "[encoded data removed]",
      "text/plain": [
       "<Figure size 432x288 with 1 Axes>"
      ]
     },
     "metadata": {
      "needs_background": "light"
     },
     "output_type": "display_data"
    }
   ],
   "source": [
    "Homewood_values = Homewood.plot.bar(x='Date', y='Value', rot=50)"
   ]
  },
  {
   "cell_type": "code",
   "execution_count": 29,
   "metadata": {},
   "outputs": [
    {
     "data": {
      "text/plain": [
       "<matplotlib.axes._subplots.AxesSubplot at 0x7fc003c04160>"
      ]
     },
     "execution_count": 29,
     "metadata": {},
     "output_type": "execute_result"
    },
    {
     "data": {
      "image/png": "[encoded data removed]",
      "text/plain": [
       "<Figure size 1296x360 with 1 Axes>"
      ]
     },
     "metadata": {
      "needs_background": "light"
     },
     "output_type": "display_data"
    }
   ],
   "source": [
    "Homewood.plot(figsize=(18,5))"
   ]
  },
  {
   "cell_type": "code",
   "execution_count": 30,
   "metadata": {},
   "outputs": [
    {
     "data": {
      "text/plain": [
       "False"
      ]
     },
     "execution_count": 30,
     "metadata": {},
     "output_type": "execute_result"
    }
   ],
   "source": [
    "df2.isnull().values.any()"
   ]
  },
  {
   "cell_type": "markdown",
   "metadata": {},
   "source": [
    "### Correlation"
   ]
  },
  {
   "cell_type": "code",
   "execution_count": 31,
   "metadata": {},
   "outputs": [
    {
     "data": {
      "text/plain": [
       "<matplotlib.collections.PathCollection at 0x7fc003b3a1c0>"
      ]
     },
     "execution_count": 31,
     "metadata": {},
     "output_type": "execute_result"
    },
    {
     "data": {
      "image/png": "[encoded data removed]",
      "text/plain": [
       "<Figure size 432x288 with 1 Axes>"
      ]
     },
     "metadata": {
      "needs_background": "light"
     },
     "output_type": "display_data"
    }
   ],
   "source": [
    "plt.scatter(df2['Cases'], df2['Value'])"
   ]
  },
  {
   "cell_type": "markdown",
   "metadata": {},
   "source": [
    "In this correlation, we see that there is a wide spread of data but there is consitencies between the plot. There is a select posiitive correlation between the Covid-19 pandemic and property values as there is data askrew above and below the trend of data. This expos"
   ]
  },
  {
   "cell_type": "markdown",
   "metadata": {},
   "source": [
    "- CBD:                    2\n",
    "- Oakland:                5\n",
    "- South Side:             3\n",
    "- Shadyside:              4\n",
    "- Homewood:               1 "
   ]
  },
  {
   "cell_type": "markdown",
   "metadata": {},
   "source": [
    "---"
   ]
  },
  {
   "cell_type": "markdown",
   "metadata": {},
   "source": [
    "# 2. Arrests"
   ]
  },
  {
   "cell_type": "markdown",
   "metadata": {},
   "source": [
    "## Code to Find Arrest Rates in Each Neighborhood"
   ]
  },
  {
   "cell_type": "markdown",
   "metadata": {},
   "source": [
    "My approach for all 5 of the neighborhoods was essentially the same, except for replacing some ZIP codes/populations that corresponded to each neighborhood. I first trimmed the massive dataframe to only include information I cared about (mainly arrest location and the offense(s)). After that, I trimmed the dataframe to only include the ZIP code I was searching for information on. After having a dataframe with information limited to the appropriate ZIP, I began to look for more specific information.\n",
    "\n",
    "To find the general arrest rate, I simply found the number of rows in the dataframe trimmed to the ZIP code, since each row represented an individual arrest. After finding this number, I divided it by the ZIP's population multiplied by the number of years the dataframe went back (in this case, 5.25). This left me with the neighborhood's yearly arrest rate, per citizen.\n",
    "\n",
    "Next was to search for the rates of more serious offenses, such as assault, robbery, and firearm posession. The approach was essentially identical for all 3. To get these, I took the ZIP-trimmed dataframe and filtered out the appropriate keywords (eg. 'assault'). The number of rows of this new dataframe gave me the number of individual arrests for the appropriate offense. To get the rate, just like described above, I took the number of rows and divided it by the population multiplied by the number of years the dataframe went back. This gave me the neighborhood's yearly arrest rate for the given charge, per citizen. \n",
    "\n",
    "I multiplied all rates by 1000, to make them represent the number of arrests per 1000 people instead of the number of arrests per 1 person. In this case, a rate out of 1000 is far easier to decipher and put into perspective than the alternative."
   ]
  },
  {
   "cell_type": "markdown",
   "metadata": {},
   "source": [
    "### 1) Oakland"
   ]
  },
  {
   "cell_type": "code",
   "execution_count": 13,
   "metadata": {},
   "outputs": [
    {
     "name": "stdout",
     "output_type": "stream",
     "text": [
      "Oakland arrest rate: 0.006175469798864948 - for every 1000 residents, ~6.175 people are arrested.\n",
      "Oakland assault arrest rate: 0.001568569328911697 - for every 1000 residents, ~1.569 people are arrested for assault.\n",
      "Oakland robbery arrest rate: 0.00020996597316140826 - for every 1000 residents, ~0.21  people are arrested for assault.\n",
      "Oakland firearm arrest rate: 0.00019761503356367836 - for every 1000 residents, ~0.198 people are arrested for firearm posession.\n"
     ]
    }
   ],
   "source": [
    "import pandas as pd\n",
    "\n",
    "crime = pd.read_csv(\"CrimeRate.csv\")\n",
    "trimCrime = crime[['ARRESTLOCATION', 'X', 'Y', 'OFFENSES']]\n",
    "\n",
    "oaklandTrim = trimCrime[trimCrime['ARRESTLOCATION'].str.contains(\"15213\")]\n",
    "oaklandArrest = ((oaklandTrim.shape[0]/30844)/5.25)*1000\n",
    "print(\"Oakland arrest rate: \" + str((oaklandTrim.shape[0]/30844)/5.25) + \" - for every 1000 residents, ~\" + \n",
    "      str(round(oaklandArrest, 3)) + \" people are arrested.\")\n",
    "\n",
    "oaklandAssault = oaklandTrim[oaklandTrim['OFFENSES'].str.contains(\"Assault\")]\n",
    "oaklandAssaultRate = (oaklandAssault.shape[0]/(30844*5.25))*1000\n",
    "print(\"Oakland assault arrest rate: \" + str((oaklandAssault.shape[0]/(30844*5.25))) + \" - for every 1000 residents, ~\" \n",
    "      + str(round(oaklandAssaultRate, 3)) + \" people are arrested for assault.\")\n",
    "\n",
    "oaklandRobbery = oaklandTrim[oaklandTrim['OFFENSES'].str.contains(\"Robbery\")]\n",
    "oaklandRobberyRate = (oaklandRobbery.shape[0]/(30844*5.25))*1000\n",
    "print(\"Oakland robbery arrest rate: \" + str((oaklandRobbery.shape[0]/(30844*5.25))) + \" - for every 1000 residents, ~\" \n",
    "      + str(round(oaklandRobberyRate, 3)) + \"  people are arrested for assault.\")\n",
    "\n",
    "oaklandFirearms = oaklandTrim[oaklandTrim['OFFENSES'].str.contains(\"Firearm\")]\n",
    "oaklandFirearmRate = oaklandFirearms.shape[0]/(30844*5.25)*1000\n",
    "(print(\"Oakland firearm arrest rate: \" + str((oaklandFirearms.shape[0]/(30844*5.25))) + \" - for every 1000 residents, ~\" \n",
    "       + str(round(oaklandFirearmRate, 3)) + \" people are arrested for firearm posession.\"))"
   ]
  },
  {
   "cell_type": "markdown",
   "metadata": {},
   "source": [
    "### 2) Shadyside"
   ]
  },
  {
   "cell_type": "code",
   "execution_count": 12,
   "metadata": {},
   "outputs": [
    {
     "name": "stdout",
     "output_type": "stream",
     "text": [
      "Shadyside arrest rate: 0.016175876937586407 - for every 1000 residents, ~16.176 people are arrested.\n",
      "Shadyside assault arrest rate: 0.003515252408698106 - for every 1000 residents, ~3.515 people are arrested for assault.\n",
      "Shadyside robbery arrest rate: 0.0006811396943683322 - for every 1000 residents, ~0.681 people are arrested for robbery.\n",
      "Shadyside firearm arrest rate: 0.0008811947094974928 - for every 1000 residents, ~0.881 people are arrested for illegal firearm posession.\n"
     ]
    }
   ],
   "source": [
    "import pandas as pd\n",
    "\n",
    "crime = pd.read_csv(\"CrimeRate.csv\")\n",
    "trimCrime = crime[['ARRESTLOCATION', 'X', 'Y', 'OFFENSES']]\n",
    "\n",
    "shadyside = ['15232', '15206']\n",
    "shadyTrim = trimCrime[trimCrime['ARRESTLOCATION'].str.contains('|'.join(shadyside))]\n",
    "shadyArrest = ((shadyTrim.shape[0]/(11374+28615))/5.25)*1000\n",
    "print(\"Shadyside arrest rate: \" + str(shadyArrest/1000) + \" - for every 1000 residents, ~\" \n",
    "      + str(round(shadyArrest, 3)) + \" people are arrested.\")\n",
    "\n",
    "shadyAssault = shadyTrim[shadyTrim['OFFENSES'].str.contains(\"Assault\")]\n",
    "shadyAssaultRate = ((shadyAssault.shape[0]/(11374+28615))/5.25)*1000\n",
    "print(\"Shadyside assault arrest rate: \" + str(shadyAssaultRate/1000) + \" - for every 1000 residents, ~\" \n",
    "      + str(round(shadyAssaultRate, 3)) + \" people are arrested for assault.\")\n",
    "\n",
    "shadyRobbery = shadyTrim[shadyTrim['OFFENSES'].str.contains(\"Robbery\")]\n",
    "shadyRobberyRate = (shadyRobbery.shape[0]/((11374+28615)*5.25)*1000)\n",
    "print(\"Shadyside robbery arrest rate: \" + str(shadyRobberyRate/1000) + \" - for every 1000 residents, ~\" \n",
    "      + str(round(shadyRobberyRate, 3)) + \" people are arrested for robbery.\")\n",
    "\n",
    "shadyFirearms = shadyTrim[shadyTrim['OFFENSES'].str.contains(\"Firearm\")]\n",
    "shadyFirearmRate = ((shadyFirearms.shape[0]/(11374+28615))/5.25)*1000\n",
    "print(\"Shadyside firearm arrest rate: \" + str(shadyFirearmRate/1000) + \" - for every 1000 residents, ~\" \n",
    "      + str(round(shadyFirearmRate, 3)) + \" people are arrested for illegal firearm posession.\")"
   ]
  },
  {
   "cell_type": "markdown",
   "metadata": {},
   "source": [
    "### 3) Homewood"
   ]
  },
  {
   "cell_type": "code",
   "execution_count": 11,
   "metadata": {},
   "outputs": [
    {
     "name": "stdout",
     "output_type": "stream",
     "text": [
      "Homewood arrest rate: 0.039025104564216616 - for every 1000 residents, ~39.025 people are arrested.\n",
      "Homewood assault arrest rate: 0.007230260930049514 - for every 1000 residents, ~7.23 people are arrested for assault.\n",
      "Homewood robbery arrest rate: 0.0010067451927917043 - for every 1000 residents, ~1.007 people are arrested for robbery.\n",
      "Homewood firearm arrest rate: 0.0026175375012584315 - for every 1000 residents, ~2.618 people are arrested for firearm posession.\n"
     ]
    }
   ],
   "source": [
    "import pandas as pd\n",
    "\n",
    "crime = pd.read_csv(\"CrimeRate.csv\")\n",
    "trimCrime = crime[['ARRESTLOCATION', 'X', 'Y', 'OFFENSES']]\n",
    "\n",
    "homewoodTrim = trimCrime[trimCrime['ARRESTLOCATION'].str.contains(\"15208\")]\n",
    "homewoodArrest = (((homewoodTrim.shape[0]/10406))/5.25)*1000\n",
    "print(\"Homewood arrest rate: \" + str(homewoodArrest/1000) + \" - for every 1000 residents, ~\" \n",
    "      + str(round(homewoodArrest, 3)) + \" people are arrested.\")\n",
    "\n",
    "homewoodAssault = homewoodTrim[homewoodTrim['OFFENSES'].str.contains(\"Assault\")]\n",
    "hwAssaultRate = (homewoodAssault.shape[0]/(10406*5.25)*1000)\n",
    "print(\"Homewood assault arrest rate: \" + str(hwAssaultRate/1000) + \" - for every 1000 residents, ~\" \n",
    "      + str(round(hwAssaultRate, 3)) + \" people are arrested for assault.\")\n",
    "\n",
    "homewoodRobbery = homewoodTrim[homewoodTrim['OFFENSES'].str.contains(\"Robbery\")]\n",
    "hwRobberyRate = (homewoodRobbery.shape[0]/(10406*5.25)*1000)\n",
    "print(\"Homewood robbery arrest rate: \" + str(hwRobberyRate/1000) + \" - for every 1000 residents, ~\" \n",
    "      + str(round(hwRobberyRate, 3)) + \" people are arrested for robbery.\")\n",
    "\n",
    "homewoodFirearms = homewoodTrim[homewoodTrim['OFFENSES'].str.contains(\"Firearm\")]\n",
    "homewoodFirearmRate = (homewoodFirearms.shape[0]/(10406*5.25)*1000)\n",
    "print(\"Homewood firearm arrest rate: \" + str(homewoodFirearmRate/1000) + \" - for every 1000 residents, ~\" \n",
    "      + str(round(homewoodFirearmRate, 3)) + \" people are arrested for firearm posession.\")"
   ]
  },
  {
   "cell_type": "markdown",
   "metadata": {},
   "source": [
    "### 4) Downtown"
   ]
  },
  {
   "cell_type": "code",
   "execution_count": 10,
   "metadata": {},
   "outputs": [
    {
     "name": "stdout",
     "output_type": "stream",
     "text": [
      "Downtown arrest rate: 0.08120886251969964 - for every 1000 residents, ~81.209 people are arrested.\n",
      "Downtown assault arrest rate: 0.014626659662350772 - for every 1000 residents, ~14.627 people are arrested for assault.\n",
      "Downtown robbery arrest rate: 0.0023897077758206894 - for every 1000 residents, ~2.39 people are arrested for robbery.\n",
      "Downtown firearm arrest rate: 0.0019364873355788347 - for every 1000 residents, ~1.936 people are arrested for illegal firearm posession.\n"
     ]
    }
   ],
   "source": [
    "import pandas as pd\n",
    "\n",
    "crime = pd.read_csv(\"CrimeRate.csv\")\n",
    "trimCrime = crime[['ARRESTLOCATION', 'X', 'Y', 'OFFENSES']]\n",
    "\n",
    "downtownTrim = trimCrime[trimCrime['ARRESTLOCATION'].str.contains(\"15222\")]\n",
    "downtownArrest = (((downtownTrim.shape[0]/4623))/5.25)*1000\n",
    "print(\"Downtown arrest rate: \" + str(downtownArrest/1000) + \" - for every 1000 residents, ~\" \n",
    "      + str(round(downtownArrest, 3)) + \" people are arrested.\")\n",
    "\n",
    "dtAssault = downtownTrim[downtownTrim['OFFENSES'].str.contains(\"Assault\")]\n",
    "dtAssaultRate = (dtAssault.shape[0]/(4623*5.25))*1000\n",
    "print(\"Downtown assault arrest rate: \" + str(dtAssaultRate/1000) + \" - for every 1000 residents, ~\" \n",
    "      + str(round(dtAssaultRate, 3)) + \" people are arrested for assault.\")\n",
    "\n",
    "dtRobbery = downtownTrim[downtownTrim['OFFENSES'].str.contains(\"Robbery\")]\n",
    "dtRobberyRate = (dtRobbery.shape[0]/(4623*5.25))*1000\n",
    "print(\"Downtown robbery arrest rate: \" + str(dtRobberyRate/1000) + \" - for every 1000 residents, ~\" \n",
    "      + str(round(dtRobberyRate, 3)) + \" people are arrested for robbery.\")\n",
    "\n",
    "dtFirearms = downtownTrim[downtownTrim['OFFENSES'].str.contains(\"Firearm\")]\n",
    "dtFirearmRate = (dtFirearms.shape[0]/(4623*5.25))*1000\n",
    "print(\"Downtown firearm arrest rate: \" + str(dtFirearmRate/1000) + \" - for every 1000 residents, ~\" \n",
    "      + str(round(dtFirearmRate, 3)) + \" people are arrested for illegal firearm posession.\")"
   ]
  },
  {
   "cell_type": "markdown",
   "metadata": {},
   "source": [
    "### 5) Southside"
   ]
  },
  {
   "cell_type": "code",
   "execution_count": 9,
   "metadata": {},
   "outputs": [
    {
     "name": "stdout",
     "output_type": "stream",
     "text": [
      "Southside arrest rate: 0.04466589128364181 - for every 1000 residents, ~44.666 people are arrested.\n",
      "Southside assault arrest rate: 0.009476903637120745 - for every 1000 residents, ~9.477 people are arrested for assault.\n",
      "Southside robbery arrest rate: 0.001033844033140445 - for every 1000 residents, ~1.034 people are arrested for robbery.\n",
      "Southside firearms arrest rate: 0.0021251238458998034 - for every 1000 residents, ~2.125 people are arrested for illegal firearm posession.\n"
     ]
    }
   ],
   "source": [
    "import pandas as pd\n",
    "\n",
    "crime = pd.read_csv(\"CrimeRate.csv\")\n",
    "trimCrime = crime[['ARRESTLOCATION', 'X', 'Y', 'OFFENSES']]\n",
    "\n",
    "southsideTrim = trimCrime[trimCrime['ARRESTLOCATION'].str.contains(\"15203\")]\n",
    "southsideArrest = (((southsideTrim.shape[0]/9949))/5.25)*1000\n",
    "print(\"Southside arrest rate: \" + str(southsideArrest/1000) + \" - for every 1000 residents, ~\" \n",
    "      + str(round(southsideArrest, 3)) + \" people are arrested.\")\n",
    "\n",
    "ssAssault = southsideTrim[southsideTrim['OFFENSES'].str.contains(\"Assault\")]\n",
    "ssAssaultRate = (ssAssault.shape[0]/(9949*5.25))*1000\n",
    "print(\"Southside assault arrest rate: \" + str(ssAssaultRate/1000) + \" - for every 1000 residents, ~\" \n",
    "      + str(round(ssAssaultRate, 3)) + \" people are arrested for assault.\")\n",
    "\n",
    "ssRobbery = southsideTrim[southsideTrim['OFFENSES'].str.contains(\"Robbery\")]\n",
    "ssRobberyRate = (ssRobbery.shape[0]/(9949*5.25))*1000\n",
    "print(\"Southside robbery arrest rate: \" + str(ssRobberyRate/1000) + \" - for every 1000 residents, ~\" \n",
    "      + str(round(ssRobberyRate, 3)) + \" people are arrested for robbery.\")\n",
    "\n",
    "ssFirearms = southsideTrim[southsideTrim['OFFENSES'].str.contains(\"Firearm\")]\n",
    "ssFirearmRate = (ssFirearms.shape[0]/(9949*5.25))*1000\n",
    "print(\"Southside firearms arrest rate: \" + str(ssFirearmRate/1000) + \" - for every 1000 residents, ~\" \n",
    "      + str(round(ssFirearmRate, 3)) + \" people are arrested for illegal firearm posession.\")"
   ]
  },
  {
   "cell_type": "markdown",
   "metadata": {},
   "source": [
    "## Graph Representations of Arrest Rates"
   ]
  },
  {
   "cell_type": "markdown",
   "metadata": {},
   "source": [
    "My approach to the code here was fairly straightforward. Just building arrays for the neighborhoods and their respective values, and plugging them into plotting functions."
   ]
  },
  {
   "cell_type": "markdown",
   "metadata": {},
   "source": [
    "### General Arrest Rates Chart, by Neighborhood (per 1000)"
   ]
  },
  {
   "cell_type": "code",
   "execution_count": 64,
   "metadata": {},
   "outputs": [
    {
     "data": {
      "image/png": "[encoded data removed]",
      "text/plain": [
       "<Figure size 432x288 with 1 Axes>"
      ]
     },
     "metadata": {
      "needs_background": "light"
     },
     "output_type": "display_data"
    }
   ],
   "source": [
    "import pandas as pd\n",
    "\n",
    "df = pd.DataFrame({'Neighborhood':['Oakland', 'Shadyside', 'Homewood', 'Downtown', 'Southside'], 'Arrest Rate':\n",
    "                   [006.175469798864948, 0016.175876937586407, 0039.025104564216616, \n",
    "                    0087.84236169051225, 0040.817694049174603]})\n",
    "ax = df.plot.bar(x='Neighborhood', y='Arrest Rate', rot=0)"
   ]
  },
  {
   "cell_type": "markdown",
   "metadata": {},
   "source": [
    "### Assault, Robbery, and Firearm Posession Arrest Rates (Unstacked/Stacked, per 1000)"
   ]
  },
  {
   "cell_type": "code",
   "execution_count": 65,
   "metadata": {},
   "outputs": [
    {
     "data": {
      "image/png": "[encoded data removed]",
      "text/plain": [
       "<Figure size 432x288 with 1 Axes>"
      ]
     },
     "metadata": {
      "needs_background": "light"
     },
     "output_type": "display_data"
    },
    {
     "data": {
      "image/png": "[encoded data removed]",
      "text/plain": [
       "<Figure size 432x288 with 1 Axes>"
      ]
     },
     "metadata": {
      "needs_background": "light"
     },
     "output_type": "display_data"
    }
   ],
   "source": [
    "import pandas as pd\n",
    "\n",
    "assaultRates = [0001.568569328911697, 0003.515252408698106, 0007.230260930049514, \n",
    "                0014.626659662350772,0009.476903637120745] \n",
    "robberyRates = [0000.20996597316140826, 0000.6811396943683322, 0001.0067451927917043, \n",
    "                0002.3897077758206894, 0001.033844033140445]\n",
    "firearmRates = [0000.19761503356367836, 0000.1524228686698366, 0002.6175375012584315,\n",
    "                0001.9364873355788347, 0002.1251238458998034]\n",
    "index = ['Oakland', 'Shadyside', 'Homewood', 'Downtown', 'Southside']\n",
    "df2 = pd.DataFrame({'Assault Rates': assaultRates, 'Robbery Rates': robberyRates, \n",
    "                    'Firearm Rates':  firearmRates}, index=index)\n",
    "ax2 = df2.plot.bar(rot=0)\n",
    "ax3 = df2.plot.bar(rot=0, stacked=True)"
   ]
  },
  {
   "cell_type": "markdown",
   "metadata": {},
   "source": [
    "### General Arrest Rates Combined w/ Assault, Robbery, Firearm Arrest Rates (Stacked/Unstacked, per 1000)"
   ]
  },
  {
   "cell_type": "code",
   "execution_count": 66,
   "metadata": {},
   "outputs": [
    {
     "data": {
      "image/png": "[encoded data removed]",
      "text/plain": [
       "<Figure size 432x288 with 1 Axes>"
      ]
     },
     "metadata": {
      "needs_background": "light"
     },
     "output_type": "display_data"
    },
    {
     "data": {
      "image/png": "[encoded data removed]",
      "text/plain": [
       "<Figure size 432x288 with 1 Axes>"
      ]
     },
     "metadata": {
      "needs_background": "light"
     },
     "output_type": "display_data"
    }
   ],
   "source": [
    "import pandas as pd\n",
    "\n",
    "arrestRates = [006.175469798864948, 0016.175876937586407, 0039.025104564216616, \n",
    "                    0087.84236169051225, 0040.817694049174603]\n",
    "assaultRates = [0001.568569328911697, 0003.515252408698106, 0007.230260930049514, \n",
    "                0014.626659662350772,0009.476903637120745] \n",
    "robberyRates = [0000.20996597316140826, 0000.6811396943683322, 0001.0067451927917043, \n",
    "                0002.3897077758206894, 0001.033844033140445]\n",
    "firearmRates = [0000.19761503356367836, 0000.1524228686698366, 0002.6175375012584315,\n",
    "                0001.9364873355788347, 0002.1251238458998034]\n",
    "index = ['Oakland', 'Shadyside', 'Homewood', 'Downtown', 'Southside']\n",
    "df2 = pd.DataFrame({'General Arrest Rate': arrestRates, 'Assault Rates': assaultRates, 'Robbery Rates': robberyRates, \n",
    "                    'Firearm Rates':  firearmRates}, index=index)\n",
    "ax2 = df2.plot.bar(rot=0)\n",
    "ax3 = df2.plot.bar(rot=0, stacked=True)"
   ]
  },
  {
   "cell_type": "markdown",
   "metadata": {},
   "source": [
    "## Code to Find the Most Common Arrest Offenses in Each Neighborhood\n",
    "\n",
    "My goal in this section of the code was to find the most common arrest offenses in each neighborhood in order to achieve more insight into what kinds of crimes are being committed in each neighborhood. My approach to finding this information for all 5 neighborhoods was very similar. Similar to the code blocks above (to find arrest rates), my first step was to trim the dataframe to the aspects I cared about, and subsequently filter out irrelevant ZIP codes. From there, I had a dataframe with only relevant data in appropriate areas. \n",
    "\n",
    "Next, I created a list of arrest offenses that were either irrelevant/too vague to be placed in the list. For example, 'Bench Warrant' was the most common offense in each neighborhood, but a Bench Warrant simply describes a situation where a judge issues an arrest warrant. Since the reason for the warrant is not included, we do not gain much information from this offense, so I removed them from the dataframe. After that, I simply used the idxmax() function to identify the most commonly occuring string in the 'OFFENSES' column. This returned the most common offense for the given ZIP code. After that, I removed that string from the dataframe, to prepare to find the *next* most common offense. I repeated this 5 times in order to find the 5 most common offenses in each neighborhood."
   ]
  },
  {
   "cell_type": "markdown",
   "metadata": {},
   "source": [
    "### Oakland"
   ]
  },
  {
   "cell_type": "code",
   "execution_count": 8,
   "metadata": {},
   "outputs": [
    {
     "name": "stdout",
     "output_type": "stream",
     "text": [
      "The 5 most common arrest charges in Oakland are (from most to least common):\n",
      "2701 Simple Assault.\n",
      "3929 Retail Theft.\n",
      "13(a)(31) Marijuana: Possession Small Amount\n",
      "2702 Aggravated Assault.\n",
      "2702 Aggravated Assault.\n"
     ]
    }
   ],
   "source": [
    "import pandas as pd\n",
    "\n",
    "crime = pd.read_csv(\"CrimeRate.csv\")\n",
    "trimCrime = crime[['ARRESTLOCATION', 'X', 'Y', 'OFFENSES']]\n",
    "ignoreCrimes = ['Bench Warrant', '9015', '9093 Indirect Criminal Contempt']\n",
    "\n",
    "oaklandTrim = trimCrime[trimCrime['ARRESTLOCATION'].str.contains(\"15213\")]\n",
    "\n",
    "print(\"The 5 most common arrest charges in Oakland are (from most to least common):\")\n",
    "\n",
    "noBenchOakland = oaklandTrim[~oaklandTrim[\"OFFENSES\"].str.contains('|'.join(ignoreCrimes))]\n",
    "oaklandCommon = noBenchOakland['OFFENSES'].value_counts().idxmax()\n",
    "print(oaklandCommon)\n",
    "\n",
    "noAssaultOakland = noBenchOakland[~noBenchOakland[\"OFFENSES\"].str.contains(\"Simple Assault\")]\n",
    "oaklandCommon2 = noAssaultOakland['OFFENSES'].value_counts().idxmax()\n",
    "print(oaklandCommon2)\n",
    "\n",
    "noFailureOakland = noAssaultOakland[~noAssaultOakland[\"OFFENSES\"].str.contains(\"3929\")]\n",
    "oaklandCommon3 = noFailureOakland['OFFENSES'].value_counts().idxmax()\n",
    "print(oaklandCommon3)\n",
    "\n",
    "noWeedOakland = noFailureOakland[~noFailureOakland[\"OFFENSES\"].str.contains(\"Marijuana: Possession Small Amount\")]\n",
    "oaklandCommon4 = noWeedOakland['OFFENSES'].value_counts().idxmax()\n",
    "print(oaklandCommon4)\n",
    "\n",
    "noParaOakland = noWeedOakland[~noWeedOakland[\"OFFENSES\"].str.contains(\"Paraphernalia - Use or Possession\")]\n",
    "oaklandCommon5 = noParaOakland['OFFENSES'].value_counts().idxmax()\n",
    "print(oaklandCommon5)"
   ]
  },
  {
   "cell_type": "markdown",
   "metadata": {},
   "source": [
    "### Shadyside"
   ]
  },
  {
   "cell_type": "code",
   "execution_count": 7,
   "metadata": {},
   "outputs": [
    {
     "name": "stdout",
     "output_type": "stream",
     "text": [
      "The 5 most common arrest charges in Shadyside are (from most to least common):\n",
      "2701 Simple Assault.\n",
      "3929 Retail Theft.\n",
      "13(a)(31) Marijuana: Possession Small Amount\n",
      "13(a)(16) Possession of Controlled Substance / 13(a)(32) Paraphernalia - Use or Possession\n",
      "13(a)(32) Paraphernalia - Use or Possession\n"
     ]
    }
   ],
   "source": [
    "import pandas as pd\n",
    "\n",
    "crime = pd.read_csv(\"CrimeRate.csv\")\n",
    "trimCrime = crime[['ARRESTLOCATION', 'X', 'Y', 'OFFENSES']]\n",
    "ignoreCrimes = ['Bench Warrant', '9015', '9093 Indirect Criminal Contempt', 'Failure To Appear/Arrest on Attachment Order']\n",
    "\n",
    "shadyside = ['15232', '15206']\n",
    "shadyTrim = trimCrime[trimCrime['ARRESTLOCATION'].str.contains('|'.join(shadyside))]\n",
    "\n",
    "print(\"The 5 most common arrest charges in Shadyside are (from most to least common):\")\n",
    "\n",
    "noBsShady = shadyTrim[~shadyTrim[\"OFFENSES\"].str.contains('|'.join(ignoreCrimes))]\n",
    "shadyCommon = noBsShady['OFFENSES'].value_counts().idxmax()\n",
    "print(shadyCommon)\n",
    "\n",
    "noAssaultShady = noBsShady[~noBsShady[\"OFFENSES\"].str.contains(\"Simple Assault\")]\n",
    "shadyCommon2 = noAssaultShady['OFFENSES'].value_counts().idxmax()\n",
    "print(shadyCommon2)\n",
    "\n",
    "noRetailShady = noAssaultShady[~noAssaultShady[\"OFFENSES\"].str.contains(\"3929\")]\n",
    "shadyCommon3 = noRetailShady['OFFENSES'].value_counts().idxmax()\n",
    "print(shadyCommon3)\n",
    "\n",
    "noWeedShady = noRetailShady[~noRetailShady[\"OFFENSES\"].str.contains(\"Marijuana: Possession Small Amount\")]\n",
    "shadyCommon4 = noWeedShady['OFFENSES'].value_counts().idxmax()\n",
    "print(shadyCommon4)\n",
    "\n",
    "noParaShady = noWeedShady[~noWeedShady[\"OFFENSES\"].str.contains\n",
    "                          (\"Possession of Controlled Substance\")]\n",
    "shadyCommon5 = noParaShady['OFFENSES'].value_counts().idxmax()\n",
    "print(shadyCommon5)"
   ]
  },
  {
   "cell_type": "markdown",
   "metadata": {},
   "source": [
    "### Homewood"
   ]
  },
  {
   "cell_type": "code",
   "execution_count": 6,
   "metadata": {},
   "outputs": [
    {
     "name": "stdout",
     "output_type": "stream",
     "text": [
      "The 5 most common arrest charges in Homewood are (from most to least common):\n",
      "2701 Simple Assault.\n",
      "13(a)(32) Paraphernalia - Use or Possession\n",
      "13(a)(31) Marijuana: Possession Small Amount\n",
      "13(a)(16) Possession of Controlled Substance\n",
      "2702 Aggravated Assault.\n"
     ]
    }
   ],
   "source": [
    "import pandas as pd\n",
    "\n",
    "crime = pd.read_csv(\"CrimeRate.csv\")\n",
    "trimCrime = crime[['ARRESTLOCATION', 'X', 'Y', 'OFFENSES']]\n",
    "ignoreCrimes = ['Bench Warrant', '9015', '9093 Indirect Criminal Contempt', 'Failure To Appear/Arrest on Attachment Order']\n",
    "\n",
    "homewoodTrim = trimCrime[trimCrime['ARRESTLOCATION'].str.contains(\"15208\")]\n",
    "\n",
    "print(\"The 5 most common arrest charges in Homewood are (from most to least common):\")\n",
    "\n",
    "noBsHW = homewoodTrim[~homewoodTrim[\"OFFENSES\"].str.contains('|'.join(ignoreCrimes))]\n",
    "hwCommon = noBsHW['OFFENSES'].value_counts().idxmax()\n",
    "print(hwCommon)\n",
    "\n",
    "noAssaultHW = noBsHW[~noBsHW[\"OFFENSES\"].str.contains(\"Simple Assault\")]\n",
    "hwCommon2 = noAssaultHW['OFFENSES'].value_counts().idxmax()\n",
    "print(hwCommon2)\n",
    "\n",
    "noParaHW = noAssaultHW[~noAssaultHW[\"OFFENSES\"].str.contains(\"Paraphernalia - Use or Possession\")]\n",
    "hwCommon3 = noParaHW['OFFENSES'].value_counts().idxmax()\n",
    "print(hwCommon3)\n",
    "\n",
    "noWeedHW = noParaHW[~noParaHW[\"OFFENSES\"].str.contains(\"Marijuana: Possession Small Amount\")]\n",
    "hwCommon4 = noWeedHW['OFFENSES'].value_counts().idxmax()\n",
    "print(hwCommon4)\n",
    "\n",
    "noPossHW = noWeedHW[~noWeedHW[\"OFFENSES\"].str.contains(\"Possession of Controlled Substance\")]\n",
    "hwCommon5 = noPossHW['OFFENSES'].value_counts().idxmax()\n",
    "print(hwCommon5)"
   ]
  },
  {
   "cell_type": "markdown",
   "metadata": {},
   "source": [
    "### Downtown"
   ]
  },
  {
   "cell_type": "code",
   "execution_count": 5,
   "metadata": {},
   "outputs": [
    {
     "name": "stdout",
     "output_type": "stream",
     "text": [
      "The 5 most common arrest charges in Downtown are (from most to least common):\n",
      "2701 Simple Assault.\n",
      "3929 Retail Theft.\n",
      "902 Criminal Solicitation. / 907 Possessing Instruments of Crime. / 5902(e) Patronizing a Prostitute\n",
      "13(a)(31) Marijuana: Possession Small Amount\n",
      "3503.B1I DEF. TRESPASS ACTUAL COMMUNICATION\n"
     ]
    }
   ],
   "source": [
    "import pandas as pd\n",
    "\n",
    "crime = pd.read_csv(\"CrimeRate.csv\")\n",
    "trimCrime = crime[['ARRESTLOCATION', 'X', 'Y', 'OFFENSES']]\n",
    "ignoreCrimes = ['Bench Warrant', '9015', '9093 Indirect Criminal Contempt', 'Failure To Appear/Arrest on Attachment Order']\n",
    "\n",
    "downtownTrim = trimCrime[trimCrime['ARRESTLOCATION'].str.contains(\"15222\")]\n",
    "\n",
    "print(\"The 5 most common arrest charges in Downtown are (from most to least common):\")\n",
    "\n",
    "noBsDT = downtownTrim[~downtownTrim[\"OFFENSES\"].str.contains('|'.join(ignoreCrimes))]\n",
    "dtCommon = noBsDT['OFFENSES'].value_counts().idxmax()\n",
    "print(dtCommon)\n",
    "\n",
    "noAssaultDT = noBsDT[~noBsDT[\"OFFENSES\"].str.contains(\"Simple Assault\")]\n",
    "dtCommon2 = noAssaultDT['OFFENSES'].value_counts().idxmax()\n",
    "print(dtCommon2)\n",
    "\n",
    "noRetailDT = noAssaultDT[~noAssaultDT[\"OFFENSES\"].str.contains(\"Retail Theft\")]\n",
    "dtCommon3 = noRetailDT['OFFENSES'].value_counts().idxmax()\n",
    "print(dtCommon3)\n",
    "\n",
    "noSolDT = noRetailDT[~noRetailDT[\"OFFENSES\"].str.contains\n",
    "                     (\"902 Criminal Solicitation. / 907 Possessing Instruments of Crime\")]\n",
    "dtCommon4 = noSolDT['OFFENSES'].value_counts().idxmax()\n",
    "print(dtCommon4)\n",
    "\n",
    "noWeedDT = noSolDT[~noSolDT[\"OFFENSES\"].str.contains(\"Marijuana: Possession Small Amount\")]\n",
    "dtCommon5 = noWeedDT['OFFENSES'].value_counts().idxmax()\n",
    "print(dtCommon5)"
   ]
  },
  {
   "cell_type": "markdown",
   "metadata": {},
   "source": [
    "### Southside"
   ]
  },
  {
   "cell_type": "code",
   "execution_count": 4,
   "metadata": {},
   "outputs": [
    {
     "name": "stdout",
     "output_type": "stream",
     "text": [
      "The 5 most common arrest charges in Southside are (from most to least common):\n",
      "13(a)(31) Marijuana: Possession Small Amount\n",
      "2701 Simple Assault.\n",
      "5503 Disorderly Conduct. / 5505 Public Drunkenness\n",
      "13(a)(16) Possession of Controlled Substance / 13(a)(32) Paraphernalia - Use or Possession\n",
      "3802(a)(1) DUI - General Impairment / 3802(c) DUI - Highest Rate of Alcohol - BAC >= .16%\n"
     ]
    }
   ],
   "source": [
    "import pandas as pd\n",
    "\n",
    "crime = pd.read_csv(\"CrimeRate.csv\")\n",
    "trimCrime = crime[['ARRESTLOCATION', 'X', 'Y', 'OFFENSES']]\n",
    "ignoreCrimes = ['Bench Warrant', '9015', '9093 Indirect Criminal Contempt', 'Failure To Appear/Arrest on Attachment Order']\n",
    "\n",
    "southsideTrim = trimCrime[trimCrime['ARRESTLOCATION'].str.contains(\"15203\")]\n",
    "\n",
    "print(\"The 5 most common arrest charges in Southside are (from most to least common):\")\n",
    "\n",
    "noBsSS = southsideTrim[~southsideTrim[\"OFFENSES\"].str.contains('|'.join(ignoreCrimes))]\n",
    "ssCommon = noBsSS['OFFENSES'].value_counts().idxmax()\n",
    "print(ssCommon)\n",
    "\n",
    "noWeedSS = noBsSS[~noBsSS[\"OFFENSES\"].str.contains(\"Marijuana: Possession Small Amount\")]\n",
    "ssCommon2 = noWeedSS['OFFENSES'].value_counts().idxmax()\n",
    "print(ssCommon2)\n",
    "\n",
    "noAssaultSS = noWeedSS[~noWeedSS[\"OFFENSES\"].str.contains(\"Simple Assault\")]\n",
    "ssCommon3 = noAssaultSS['OFFENSES'].value_counts().idxmax()\n",
    "print(ssCommon3)\n",
    "\n",
    "noDrunkSS = noAssaultSS[~noAssaultSS[\"OFFENSES\"].str.contains(\"Public Drunkenness\")]\n",
    "ssCommon4 = noDrunkSS['OFFENSES'].value_counts().idxmax()\n",
    "print(ssCommon4)\n",
    "\n",
    "noPosSS = noDrunkSS[~noDrunkSS[\"OFFENSES\"].str.contains(\"Possession of Controlled Substance\")]\n",
    "ssCommon5 = noPosSS['OFFENSES'].value_counts().idxmax()\n",
    "print(ssCommon5)"
   ]
  },
  {
   "cell_type": "markdown",
   "metadata": {},
   "source": [
    "## Chart of Most Common Arrest Offenses"
   ]
  },
  {
   "cell_type": "code",
   "execution_count": 72,
   "metadata": {},
   "outputs": [
    {
     "name": "stdout",
     "output_type": "stream",
     "text": [
      "                           Oakland                          Shadyside  \\\n",
      "1.                  Simple Assault                     Simple Assault   \n",
      "2.                    Retail Theft                       Retail Theft   \n",
      "3.             Marijuana Posession                Marijuana Posession   \n",
      "4.  Paraphernalia Use or Posession  Posession of Controlled Substance   \n",
      "5.           Aggravated of Assault     Paraphernalia Use or Posession   \n",
      "\n",
      "                                        Homewood  \\\n",
      "1.                                Simple Assault   \n",
      "2.              Paraphernalia - Use or Posession   \n",
      "3.  Marijuana: Posession of Controlled Substance   \n",
      "4.             Posession of Controlled Substance   \n",
      "5.                            Aggravated Assault   \n",
      "\n",
      "                             Downtown                              Southside  \n",
      "1.                     Simple Assault                    Marijuana Posession  \n",
      "2.                       Retail Theft                         Simple Assault  \n",
      "3.              Criminal Solicitation  Disorderly Conduct/Public Drunkenness  \n",
      "4.                Marijuana Posession      Posession of Controlled Substance  \n",
      "5.  Posession of Controlled Substance                 DUI/General Impairment  \n"
     ]
    }
   ],
   "source": [
    "import pandas as pd\n",
    "\n",
    "data = {'Oakland':  ['Simple Assault', 'Retail Theft', 'Marijuana Posession', 'Paraphernalia Use or Posession', \n",
    "                     'Aggravated of Assault'],\n",
    "       'Shadyside':  ['Simple Assault', 'Retail Theft', 'Marijuana Posession', \n",
    "                      'Posession of Controlled Substance', 'Paraphernalia Use or Posession'],\n",
    "        'Homewood':  ['Simple Assault', 'Paraphernalia - Use or Posession', 'Marijuana: Posession of Controlled Substance', \n",
    "                      'Posession of Controlled Substance', 'Aggravated Assault'],\n",
    "        'Downtown':  ['Simple Assault', 'Retail Theft', 'Criminal Solicitation', 'Marijuana Posession', \n",
    "                      'Posession of Controlled Substance'],\n",
    "        'Southside':  ['Marijuana Posession', 'Simple Assault', \n",
    "                       'Disorderly Conduct/Public Drunkenness', 'Posession of Controlled Substance', \n",
    "                       'DUI/General Impairment']\n",
    "       }\n",
    "\n",
    "df = pd.DataFrame(data, index=['1.', '2.', '3.', '4.', '5.'])\n",
    "\n",
    "print (df)"
   ]
  },
  {
   "cell_type": "markdown",
   "metadata": {},
   "source": [
    "## Comments on Arrest Data \n",
    "\n",
    "Surprisingly, Oakland had the lowest arrest rates (per capita) by far out of the neighborhoods that we analyzed. I would say that a big reason for this is just how many individuals reside in this area. Oakland has a population of between 22k-30k, so while the neighborhood may have a similar amount of raw arrests to others, the number of residents brings the *rate* far down. A big reason for this is also that since many residents in Oakland are students, most people here have little-to-no reason or motivation to commit crime. Students in college have too much going for them, for the most part. The 3 most common arrests were for retail theft, assault, and possession of marijuana (surprise!). \n",
    "\n",
    "Shadyside had the second lowest arrest rates. With a population of ~14.5k, and being one of the wealthier neighborhoods in Pittsburgh, it is not a surprise that the arrest rates in Shadyside were relatively low. Depending on who you are, Shadyside's low arrest rates along with the family-friendly community is certainly a competitor for the best neighborhood in Pittsburgh. While Oakland's were lower, Shadyside's are certainly comparable,  and for most it's a worthy sacrifice to not live on a college campus. The three biggest causes of arrest here were assault, retail theft, and marijuana posession (similar to Oakland, but with assault and retail theft switched). \n",
    "\n",
    "Homewood, a neighborhood on the northeast side of Pittsburgh, surprisingly had the third highest arrest rates out of the neighborhoods we analyzed. The neighborhood is known for being more violent and somewhat impoverished, and given that crime correlates with income, we expected to see the highest arrest rates here. Not surprisingly, the highest rate of illegal gun posession was found in Homewood, and higher rates of robbery than Oakland and Shadyside. We theorized that a factor in bringing down Homewood's arrest rate was the fact that its population is higher than Downtown and Southside, both of which had higher arrest rates. Homewood's highest causes of arrest are assault, posession of drug paraphernalia, and posession of marijuana. This is the only neighborhood we analyzed that had drug paraphernalia as a leading arrest cause, which was not a surprise, since poverty also correlates strongly with drug use.  \n",
    "\n",
    "Downtown, or the Central Business District, had the highest arrest rate out of the neighborhoods we analyzed. This was surprising initially, but upon thinking about why, it makes sense. First of all, the population of people who actually *live* in the CBD is small - just above 4500. However, the amount of residents who travel into this neighborhood on a daily basis is far, far higher. This means that many people who don't actually live in the neighborhood are arrested here, which brings the arrest rate per resident far higher. In addition to this, the police presence in the CBD is likely extremely high, as with any city's downtown area. More police means more arrests. I would theorize that not  *much* more crime is committed in this area than others, but the low population, high influx of people, and high police presence shoots the rate way up. The highest causes of arrest downtown were retail theft, posession of marijuana, and \"Criminal Solicitation. / 907 Possessing Instruments of Crime. / 5902(e) Patronizing a Prostitute\". The third one really surprised me, but it's not too surprising to think that solicitation of a prostitute would be the most common in a city's downtown section.\n",
    "\n",
    "Southside had the second highest arrest rate. A generally safe neighborhood, this surprised me, but it is a hub for bars  and nightlife. Since alcohol reduces inhibitions and can stir conflict, we suspect that this played a major role. The three biggest causes for arrests in Southside were posession of marijuana, assault, and public intoxication (another surprise! /s). \n",
    "\n",
    "\n",
    "### Rankings:\n",
    "Oakland: 5\\\n",
    "Shadyside: 4\\\n",
    "Homewood: 3\\\n",
    "Southside: 2\\\n",
    "Downtown: 1"
   ]
  },
  {
   "cell_type": "markdown",
   "metadata": {},
   "source": [
    "---"
   ]
  },
  {
   "cell_type": "markdown",
   "metadata": {},
   "source": [
    "# 3. 311 Calls"
   ]
  },
  {
   "cell_type": "markdown",
   "metadata": {},
   "source": [
    "---"
   ]
  },
  {
   "cell_type": "markdown",
   "metadata": {},
   "source": [
    "## Code to Find Rate of 311 Reports in Each Neighborhood"
   ]
  },
  {
   "cell_type": "markdown",
   "metadata": {},
   "source": [
    "My approach to finding the rate of 311 reports in each neighborhod was straightforward, and similar to that of finding each neighborhood's arrest rate. After importing the 311 dataset, I first trimmed the columns to only include information about the type of request and the neighborhood it stemmed from. This dataset was nice, because instead of only including ZIP codes, it included the neighborhood. This simplified cleaning up the data. After that, I simply filtered the 'Neighborhood' column to only include strings equivalent to that of the neighborhood I was interested in. This gave me a simple dataset with information about each request from a specific neighborhood.\n",
    "\n",
    "From there, the approach was simple. Since each row represented a single 311 report, to get the total number from each neighborhood per year, I simply took the number of rows and divided it by the number of years the dataset went back (4 in this case). Now that I had the yearly 311 report count, I divided it by the population to get the rate of 311 reports per capita.\n",
    "\n",
    "Just like with the arrest rates, I multiplied the rate by 1000 to give me a rate per 1000 residents instead of per each resident."
   ]
  },
  {
   "cell_type": "markdown",
   "metadata": {},
   "source": [
    "### Oakland"
   ]
  },
  {
   "cell_type": "code",
   "execution_count": 14,
   "metadata": {},
   "outputs": [
    {
     "name": "stdout",
     "output_type": "stream",
     "text": [
      "Number of 311 reports per year in Oakland:5288.5\n",
      "Oakland 311 rate: 0.6104698141521413 - this means that for every 1000 residents, ~610.47 311 reports were made yearly.\n"
     ]
    }
   ],
   "source": [
    "import pandas as pd\n",
    "\n",
    "data311 = pd.read_csv(\"311.csv\")\n",
    "trim311 = data311[['REQUEST_TYPE', 'NEIGHBORHOOD']]\n",
    "\n",
    "oaklandTrim = trim311[trim311['NEIGHBORHOOD'].str.contains(\"Oakland\", na=False)]\n",
    "print(\"Number of 311 reports per year in Oakland:\" + str(oaklandTrim.shape[0]/4))\n",
    "oakland311 = (((oaklandTrim.shape[0]/8663))/4)*1000\n",
    "print(\"Oakland 311 rate: \" + str(oakland311/1000)\n",
    "      + \" - this means that for every 1000 residents, ~\" + str(round(oakland311,3)) + \" 311 reports were made yearly.\")"
   ]
  },
  {
   "cell_type": "markdown",
   "metadata": {},
   "source": [
    "### Shadyside"
   ]
  },
  {
   "cell_type": "code",
   "execution_count": 17,
   "metadata": {},
   "outputs": [
    {
     "name": "stdout",
     "output_type": "stream",
     "text": [
      "Number of 311 reports per year in Shadyside: 2834.25\n",
      "Shadyside 311 rate: 0.19796395892994342 - this means that for every 1000 residents, ~197.964 311 reports were made yearly.\n"
     ]
    }
   ],
   "source": [
    "import pandas as pd\n",
    "\n",
    "data311 = pd.read_csv(\"311.csv\")\n",
    "trim311 = data311[['REQUEST_TYPE', 'NEIGHBORHOOD']]\n",
    "\n",
    "shadyTrim = trim311[trim311['NEIGHBORHOOD'].str.contains(\"Shadyside\", na=False)]\n",
    "print(\"Number of 311 reports per year in Shadyside: \" + str(shadyTrim.shape[0]/4))\n",
    "shady311 = ((shadyTrim.shape[0]/(14317))/4)*1000\n",
    "print(\"Shadyside 311 rate: \" + str(shady311/1000)\n",
    "      + \" - this means that for every 1000 residents, ~\" + str(round(shady311,3)) + \" 311 reports were made yearly.\")"
   ]
  },
  {
   "cell_type": "markdown",
   "metadata": {},
   "source": [
    "### Homewood"
   ]
  },
  {
   "cell_type": "code",
   "execution_count": 18,
   "metadata": {},
   "outputs": [
    {
     "name": "stdout",
     "output_type": "stream",
     "text": [
      "Number of 311 reports per year in Homewood: 2834.25\n",
      "Homewood 311 rate: 0.3891024408994811 - this means that for every 1000 residents, ~389.102 311 reports were made yearly.\n"
     ]
    }
   ],
   "source": [
    "import pandas as pd\n",
    "\n",
    "data311 = pd.read_csv(\"311.csv\")\n",
    "trim311 = data311[['REQUEST_TYPE', 'NEIGHBORHOOD']]\n",
    "\n",
    "hwTrim = trim311[trim311['NEIGHBORHOOD'].str.contains(\"Homewood\", na=False)]\n",
    "print(\"Number of 311 reports per year in Homewood: \" + str(shadyTrim.shape[0]/4))\n",
    "hw311 = ((hwTrim.shape[0]/(10406))/4)*1000\n",
    "print(\"Homewood 311 rate: \" + str(hw311/1000)\n",
    "      + \" - this means that for every 1000 residents, ~\" + str(round(hw311,3)) + \" 311 reports were made yearly.\")"
   ]
  },
  {
   "cell_type": "markdown",
   "metadata": {},
   "source": [
    "### Downtown"
   ]
  },
  {
   "cell_type": "code",
   "execution_count": 131,
   "metadata": {},
   "outputs": [
    {
     "name": "stdout",
     "output_type": "stream",
     "text": [
      "Number of 311 reports per year in Downtown: 467.75\n",
      "Downtown 311 rate: 0.09315873332005577 - this means that for every 1000 residents, ~93.159 311 reports were made yearly.\n"
     ]
    }
   ],
   "source": [
    "import pandas as pd\n",
    "\n",
    "data311 = pd.read_csv(\"311.csv\")\n",
    "trim311 = data311[['REQUEST_TYPE', 'NEIGHBORHOOD']]\n",
    "\n",
    "dtTrim = trim311[trim311['NEIGHBORHOOD'].str.contains(\"Central Business\", na=False)]\n",
    "print(\"Number of 311 reports per year in Downtown: \" + str(dtTrim.shape[0]/4))\n",
    "dt311 = ((dtTrim.shape[0]/(5021))/4)*1000\n",
    "print(\"Downtown 311 rate: \" + str(dt311/1000)\n",
    "      + \" - this means that for every 1000 residents, ~\" + str(round(dt311,3)) + \" 311 reports were made yearly.\")"
   ]
  },
  {
   "cell_type": "markdown",
   "metadata": {},
   "source": [
    "### Southside"
   ]
  },
  {
   "cell_type": "code",
   "execution_count": 33,
   "metadata": {},
   "outputs": [
    {
     "name": "stdout",
     "output_type": "stream",
     "text": [
      "Number of 311 reports per year in Southside: 8825.5\n",
      "Southside 311 rate: 0.8694217318490789 - this means that for every 1000 residents, ~869.422 311 reports were made yearly.\n"
     ]
    }
   ],
   "source": [
    "import pandas as pd\n",
    "\n",
    "data311 = pd.read_csv(\"311.csv\")\n",
    "trim311 = data311[['REQUEST_TYPE', 'NEIGHBORHOOD']]\n",
    "\n",
    "ssTrim = trim311[trim311['NEIGHBORHOOD'].str.contains(\"South Side\", na=False)]\n",
    "print(\"Number of 311 reports per year in Southside: \" + str(ssTrim.shape[0]/4))\n",
    "ss311 = ((ssTrim.shape[0]/(10151))/4)*1000\n",
    "print(\"Southside 311 rate: \" + str(ss311/1000)\n",
    "      + \" - this means that for every 1000 residents, ~\" + str(round(ss311,3)) + \" 311 reports were made yearly.\")"
   ]
  },
  {
   "cell_type": "markdown",
   "metadata": {},
   "source": [
    "## Code to Find Most Common 311 Reports in Each Neighborhood"
   ]
  },
  {
   "cell_type": "markdown",
   "metadata": {},
   "source": [
    "The code to find the most common 311 reports in each neighborhood was basically identical to the code that I used to find the most common arrest offenses in each neighborhood. I will re-outline my approach below.\n",
    "\n",
    "For each neighborhood, I first imported the dataset and trimmed it to only include information on the request type and neighborhood. After doing that, I filtered out every neighborhood except for the one I was interested in. After having a dataset with only the particular neighborhoods, for each of the 5 311 requests, I simply used the idxmax() function to identify the most frequently occuring string in the 'Request Type' section. After identifying the most common request, I filtered it out to prepare to find the next most common request. I repeated this until I had the 5 most common requests for each neighborhood."
   ]
  },
  {
   "cell_type": "markdown",
   "metadata": {},
   "source": [
    "### Oakland"
   ]
  },
  {
   "cell_type": "code",
   "execution_count": 20,
   "metadata": {},
   "outputs": [
    {
     "name": "stdout",
     "output_type": "stream",
     "text": [
      "The top 5 most common 311 reports in Oakland are (from greatest to least):\n",
      "Potholes\n",
      "Weeds/Debris\n",
      "Building Maintenance\n",
      "Illegal Parking\n",
      "Replace/Repair a Sign\n"
     ]
    }
   ],
   "source": [
    "import pandas as pd\n",
    "\n",
    "data311 = pd.read_csv(\"311.csv\")\n",
    "trim311 = data311[['REQUEST_TYPE', 'NEIGHBORHOOD']]\n",
    "\n",
    "oaklandTrim = trim311[trim311['NEIGHBORHOOD'].str.contains(\"Oakland\", na=False)]\n",
    "\n",
    "print(\"The top 5 most common 311 reports in Oakland are (from greatest to least):\")\n",
    "\n",
    "oaklandCommon = oaklandTrim['REQUEST_TYPE'].value_counts().idxmax()\n",
    "print(oaklandCommon)\n",
    "\n",
    "noPotholesOakland = oaklandTrim[~oaklandTrim[\"REQUEST_TYPE\"].str.contains(\"Potholes\")]\n",
    "oaklandCommon2 = noPotholesOakland['REQUEST_TYPE'].value_counts().idxmax()\n",
    "print(oaklandCommon2)\n",
    "\n",
    "noWeedsOakland = noPotholesOakland[~noPotholesOakland[\"REQUEST_TYPE\"].str.contains(\"Weeds/Debris\")]\n",
    "noBsOakland = noWeedsOakland[~noWeedsOakland[\"REQUEST_TYPE\"].str.contains(\"Refuse Violations\")]\n",
    "oaklandCommon3 = noBsOakland['REQUEST_TYPE'].value_counts().idxmax()\n",
    "print(oaklandCommon3)\n",
    "\n",
    "noMainOakland = noBsOakland[~noBsOakland[\"REQUEST_TYPE\"].str.contains(\"Building Maintenance\")]\n",
    "oaklandCommon4 = noMainOakland['REQUEST_TYPE'].value_counts().idxmax()\n",
    "print(oaklandCommon4)\n",
    "\n",
    "noParkOakland = noMainOakland[~noMainOakland[\"REQUEST_TYPE\"].str.contains(\"Illegal Parking\")]\n",
    "oaklandCommon5 = noParkOakland['REQUEST_TYPE'].value_counts().idxmax()\n",
    "print(oaklandCommon5)"
   ]
  },
  {
   "cell_type": "markdown",
   "metadata": {},
   "source": [
    "### Shadyside"
   ]
  },
  {
   "cell_type": "code",
   "execution_count": 21,
   "metadata": {},
   "outputs": [
    {
     "name": "stdout",
     "output_type": "stream",
     "text": [
      "The top 5 most common 311 reports in Shadyside are (from greatest to least):\n",
      "Potholes\n",
      "Weeds/Debris\n",
      "Replace/Repair a Sign\n",
      "Street Light - Repair\n",
      "Building Maintenance\n"
     ]
    }
   ],
   "source": [
    "import pandas as pd\n",
    "\n",
    "data311 = pd.read_csv(\"311.csv\")\n",
    "trim311 = data311[['REQUEST_TYPE', 'NEIGHBORHOOD']]\n",
    "\n",
    "shadyTrim = trim311[trim311['NEIGHBORHOOD'].str.contains(\"Shadyside\", na=False)]\n",
    "\n",
    "print(\"The top 5 most common 311 reports in Shadyside are (from greatest to least):\")\n",
    "\n",
    "noBsShady = shadyTrim[~shadyTrim[\"REQUEST_TYPE\"].str.contains(\"Bench Warrant\")]\n",
    "shadyCommon = noBsShady['REQUEST_TYPE'].value_counts().idxmax()\n",
    "print(shadyCommon)\n",
    "\n",
    "noPotholesShady = noBsShady[~noBsShady[\"REQUEST_TYPE\"].str.contains(\"Potholes\")]\n",
    "shadyCommon2 = noPotholesShady['REQUEST_TYPE'].value_counts().idxmax()\n",
    "print(shadyCommon2)\n",
    "\n",
    "noWeedsShady = noPotholesShady[~noPotholesShady[\"REQUEST_TYPE\"].str.contains(\"Weeds\")]\n",
    "shadyCommon3 = noWeedsShady['REQUEST_TYPE'].value_counts().idxmax()\n",
    "print(shadyCommon3)\n",
    "\n",
    "noSignShady = noWeedsShady[~noWeedsShady[\"REQUEST_TYPE\"].str.contains(\"Replace/Repair a Sign\")]\n",
    "shadyCommon4 = noSignShady['REQUEST_TYPE'].value_counts().idxmax()\n",
    "print(shadyCommon4)\n",
    "\n",
    "noLightShady = noSignShady[~noSignShady[\"REQUEST_TYPE\"].str.contains(\"Street Light - Repair\")]\n",
    "shadyCommon5 = noLightShady['REQUEST_TYPE'].value_counts().idxmax()\n",
    "print(shadyCommon5)"
   ]
  },
  {
   "cell_type": "markdown",
   "metadata": {},
   "source": [
    "### Homewood"
   ]
  },
  {
   "cell_type": "code",
   "execution_count": 22,
   "metadata": {},
   "outputs": [
    {
     "name": "stdout",
     "output_type": "stream",
     "text": [
      "The top 5 most common 311 reports in Homewood are (from greatest to least):\n",
      "Weeds/Debris\n",
      "Potholes\n",
      "Building Maintenance\n",
      "Vacant Building\n",
      "Abandoned Vehicle (parked on street)\n"
     ]
    }
   ],
   "source": [
    "import pandas as pd\n",
    "\n",
    "data311 = pd.read_csv(\"311.csv\")\n",
    "trim311 = data311[['REQUEST_TYPE', 'NEIGHBORHOOD']]\n",
    "\n",
    "hwTrim = trim311[trim311['NEIGHBORHOOD'].str.contains(\"Homewood\", na=False)]\n",
    "\n",
    "print(\"The top 5 most common 311 reports in Homewood are (from greatest to least):\")\n",
    "\n",
    "hwCommon = hwTrim['REQUEST_TYPE'].value_counts().idxmax()\n",
    "print(hwCommon)\n",
    "\n",
    "noWeedsHw = hwTrim[~hwTrim[\"REQUEST_TYPE\"].str.contains(\"Weeds\")]\n",
    "hwCommon2 = noWeedsHw['REQUEST_TYPE'].value_counts().idxmax()\n",
    "print(hwCommon2)\n",
    "\n",
    "noPotholesHw = noWeedsHw[~noWeedsHw[\"REQUEST_TYPE\"].str.contains(\"Potholes\")]\n",
    "noBsHw = noPotholesHw[~noPotholesHw[\"REQUEST_TYPE\"].str.contains(\"City Source\")]\n",
    "hwCommon3 = noBsHw['REQUEST_TYPE'].value_counts().idxmax()\n",
    "print(hwCommon3)\n",
    "\n",
    "noMainHw = noBsHw[~noBsHw[\"REQUEST_TYPE\"].str.contains(\"Building Maintenance\")]\n",
    "hwCommon4 = noMainHw['REQUEST_TYPE'].value_counts().idxmax()\n",
    "print(hwCommon4)\n",
    "\n",
    "noVacantHw = noMainHw[~noMainHw[\"REQUEST_TYPE\"].str.contains(\"Vacant Building\")]\n",
    "hwCommon5 = noVacantHw['REQUEST_TYPE'].value_counts().idxmax()\n",
    "print(hwCommon5)"
   ]
  },
  {
   "cell_type": "markdown",
   "metadata": {},
   "source": [
    "### Downtown"
   ]
  },
  {
   "cell_type": "code",
   "execution_count": 30,
   "metadata": {},
   "outputs": [
    {
     "name": "stdout",
     "output_type": "stream",
     "text": [
      "The top 5 most common 311 reports in Downtown are (from greatest to least):\n",
      "Potholes\n",
      "Illegal Parking\n",
      "Street Light - Repair\n",
      "Litter\n",
      "Blocked or Closed Sidewalks\n"
     ]
    }
   ],
   "source": [
    "import pandas as pd\n",
    "\n",
    "data311 = pd.read_csv(\"311.csv\")\n",
    "trim311 = data311[['REQUEST_TYPE', 'NEIGHBORHOOD']]\n",
    "\n",
    "dtTrim = trim311[trim311['NEIGHBORHOOD'].str.contains(\"Central Business\", na=False)]\n",
    "\n",
    "print(\"The top 5 most common 311 reports in Downtown are (from greatest to least):\")\n",
    "\n",
    "dtCommon = dtTrim['REQUEST_TYPE'].value_counts().idxmax()\n",
    "print(dtCommon)\n",
    "\n",
    "noPhDt = dtTrim[~dtTrim[\"REQUEST_TYPE\"].str.contains(\"Potholes\")]\n",
    "dtCommon2 = noPhDt['REQUEST_TYPE'].value_counts().idxmax()\n",
    "print(dtCommon2)\n",
    "\n",
    "noParkingDt = noPhDt[~noPhDt[\"REQUEST_TYPE\"].str.contains(\"Illegal Parking\")]\n",
    "dtCommon3 = noParkingDt['REQUEST_TYPE'].value_counts().idxmax()\n",
    "print(dtCommon3)\n",
    "\n",
    "noLightDt = noParkingDt[~noParkingDt[\"REQUEST_TYPE\"].str.contains(\"Street Light - Repair\")]\n",
    "noBsDt = noLightDt[~noLightDt[\"REQUEST_TYPE\"].str.contains(\"Mayor's Office\")]\n",
    "dtCommon4 = noBsDt['REQUEST_TYPE'].value_counts().idxmax()\n",
    "print(dtCommon4)\n",
    "\n",
    "noLitterDt = noBsDt[~noBsDt[\"REQUEST_TYPE\"].str.contains(\"Litter\")]\n",
    "dtCommon5 = noLitterDt['REQUEST_TYPE'].value_counts().idxmax()\n",
    "print(dtCommon5)"
   ]
  },
  {
   "cell_type": "markdown",
   "metadata": {},
   "source": [
    "### Southside"
   ]
  },
  {
   "cell_type": "code",
   "execution_count": 28,
   "metadata": {},
   "outputs": [
    {
     "name": "stdout",
     "output_type": "stream",
     "text": [
      "The top 5 most common 311 reports in Southside are (from greatest to least):\n",
      "Weeds/Debris\n",
      "Potholes\n",
      "Snow/Ice removal\n",
      "Building Maintenance\n",
      "Abandoned Vehicle (parked on street)\n"
     ]
    }
   ],
   "source": [
    "import pandas as pd\n",
    "\n",
    "data311 = pd.read_csv(\"311.csv\")\n",
    "trim311 = data311[['REQUEST_TYPE', 'NEIGHBORHOOD']]\n",
    "\n",
    "ssTrim = trim311[trim311['NEIGHBORHOOD'].str.contains(\"South Side\", na=False)]\n",
    "\n",
    "print(\"The top 5 most common 311 reports in Southside are (from greatest to least):\")\n",
    "\n",
    "noBsSs = ssTrim[~ssTrim[\"REQUEST_TYPE\"].str.contains(\"Refuse Violations\")]\n",
    "ssCommon = noBsSs['REQUEST_TYPE'].value_counts().idxmax()\n",
    "print(ssCommon)\n",
    "\n",
    "noWeedsSs = noBsSs[~noBsSs[\"REQUEST_TYPE\"].str.contains(\"Weeds/Debris\")]\n",
    "ssCommon2 = noWeedsSs['REQUEST_TYPE'].value_counts().idxmax()\n",
    "print(ssCommon2)\n",
    "\n",
    "noPhSs = noWeedsSs[~noWeedsSs[\"REQUEST_TYPE\"].str.contains(\"Potholes\")]\n",
    "ssCommon3 = noPhSs['REQUEST_TYPE'].value_counts().idxmax()\n",
    "print(ssCommon3)\n",
    "\n",
    "noSlSs = noPhSs[~noPhSs[\"REQUEST_TYPE\"].str.contains(\"Snow/Ice removal\")]\n",
    "ssCommon4 = noSlSs['REQUEST_TYPE'].value_counts().idxmax()\n",
    "print(ssCommon4)\n",
    "\n",
    "noLitterSs = noSlSs[~noSlSs[\"REQUEST_TYPE\"].str.contains(\"Building Maintenance\")]\n",
    "ssCommon5 = noLitterSs['REQUEST_TYPE'].value_counts().idxmax()\n",
    "print(ssCommon5)"
   ]
  },
  {
   "cell_type": "markdown",
   "metadata": {},
   "source": [
    "## Code for Creating Chart of 311 Reports"
   ]
  },
  {
   "cell_type": "markdown",
   "metadata": {},
   "source": [
    "### Bar Graph of 311 Rates"
   ]
  },
  {
   "cell_type": "code",
   "execution_count": 83,
   "metadata": {},
   "outputs": [
    {
     "data": {
      "image/png": "[encoded data removed]",
      "text/plain": [
       "<Figure size 432x288 with 1 Axes>"
      ]
     },
     "metadata": {
      "needs_background": "light"
     },
     "output_type": "display_data"
    }
   ],
   "source": [
    "df = pd.DataFrame({'Neighborhood':['Oakland', 'Shadyside', 'Homewood', 'Downtown', 'Southside'], \n",
    "                   'Report Rate':[0.6104698141521413, 0.19796395892994342, 0.3891024408994811, \n",
    "                                  0.5727444732125074, 0.28329721209733033]})\n",
    "ax = df.plot.bar(x='Neighborhood', y='Report Rate', rot=0)"
   ]
  },
  {
   "cell_type": "markdown",
   "metadata": {},
   "source": [
    "## Chart of Most Common 311 Reports"
   ]
  },
  {
   "cell_type": "code",
   "execution_count": 29,
   "metadata": {},
   "outputs": [
    {
     "name": "stdout",
     "output_type": "stream",
     "text": [
      "                  Oakland              Shadyside  \\\n",
      "1.               Potholes               Potholes   \n",
      "2.           Weeds/Debris           Weeds/Debris   \n",
      "3.   Building Maintenance  Replace/Repair a Sign   \n",
      "4.        Illegal Parking  Street Light - Repair   \n",
      "5.  Replace/Repair a Sign   Building Maintenance   \n",
      "\n",
      "                                Homewood                     Downtown  \\\n",
      "1.                          Weeds/Debris                     Potholes   \n",
      "2.                              Potholes              Illegal Parking   \n",
      "3.                  Building Maintenance        Street Light - Repair   \n",
      "4.                       Vacant Building                       Litter   \n",
      "5.  Abandoned Vehicle (parked on street)  Blocked or Closed Sidewalks   \n",
      "\n",
      "               Southside  \n",
      "1.          Weeds/Debris  \n",
      "2.              Potholes  \n",
      "3.      Snow/Ice removal  \n",
      "4.  Building Maintenance  \n",
      "5.     Abandoned Vehicle  \n"
     ]
    }
   ],
   "source": [
    "import pandas as pd\n",
    "\n",
    "data = {'Oakland':  ['Potholes', 'Weeds/Debris', 'Building Maintenance', 'Illegal Parking', 'Replace/Repair a Sign'],\n",
    "       'Shadyside':  ['Potholes', 'Weeds/Debris', 'Replace/Repair a Sign', \n",
    "                      'Street Light - Repair', 'Building Maintenance'],\n",
    "        'Homewood':  ['Weeds/Debris', 'Potholes', 'Building Maintenance', \n",
    "                      'Vacant Building', 'Abandoned Vehicle (parked on street)'],\n",
    "        'Downtown':  ['Potholes', 'Illegal Parking', 'Street Light - Repair', 'Litter', 'Blocked or Closed Sidewalks'],\n",
    "        'Southside':  ['Weeds/Debris', 'Potholes', 'Snow/Ice removal', 'Building Maintenance', 'Abandoned Vehicle']\n",
    "       }\n",
    "\n",
    "df = pd.DataFrame(data, index=['1.', '2.', '3.', '4.', '5.'])\n",
    "\n",
    "print (df)"
   ]
  },
  {
   "cell_type": "markdown",
   "metadata": {},
   "source": [
    "## Comments on distribution of 311 reports\n",
    "\n",
    "Oakland had the highest number of 311 reports, per capita, out of the neighborhoods analyzed. This was not a huge surprise, given that it's a college neighborhood and many students have no interest in maintaining high standards for the neighborhood they live in. Part of this is definitely because students A) travel in from other communities, and B) are aware that they'll be here for 4-6 years and then never return and C) are young and irresponsible. Students in college (and their parents) are also more likely to be aware of a resource like 311 (compared to an impoverished neighborhood) given that they are generally educated and have been made aware of the resources available to them. \n",
    "\n",
    "Shadyside had the lowest rate of 311 reports. This did not come as a surprise, as the community/family-friendly feel is strong here, and residents have a mutual interest in keeping a well-maintained neighborhood. Given that it is a relatively wealthy area, the city of Pittsburgh also has a strong vested interest in maintaining the area to bring in more taxpayers, potentially decreasing the amount of 311 reports needed. Shadyside is also an area that tourists likely would visit, and first impressions are important. \n",
    "\n",
    "Homewood had the third highest rate of 311 reports. Out of all the neighborhoods analyzed, I would think that Homewood has the most incidents justifying a 311 report, but the residents here are unaware of the resource existing. Since the area is relatively impoverished, A) the neighborhood is more dilapidated than most in the city, B) community members are unaware of the resource, and C) community members feel that keeping a well-maintained neighborhood is simply not a top priority.\n",
    "\n",
    "Downtown had the second highest rate of 311 reports, just short of Oakland. After analyzing arrest data, this did not surprise me, for the same reasons that we reasoned that downtown's arrest rate is so high. There is a small amount of people who actually reside downtown, but there is a large amount of people who travel through it on a daily basis. Things like potholes and busted traffic lights bother people even if they don't live there, so 311 reports are made by people who don't live in the area. This boosts the rate way up. Since it is somewhat of a hub, things also are wore down far more quickly, resulting in more reports. \n",
    "\n",
    "Southside had the third highest rate of 311 reports. This was not much of a surprise, and makes sense considering the rest of the data and their justifications. \n",
    "\n",
    "### 311 Rankings:\n",
    "\n",
    "Oakland: 1\\\n",
    "Shadyside: 5\\\n",
    "Homewood: 3\\\n",
    "Downtown: 2\\\n",
    "Southside: 4"
   ]
  },
  {
   "cell_type": "markdown",
   "metadata": {},
   "source": [
    "---"
   ]
  },
  {
   "cell_type": "markdown",
   "metadata": {},
   "source": [
    "# Scoring Analysis "
   ]
  },
  {
   "cell_type": "markdown",
   "metadata": {},
   "source": [
    "COVID/Housing Market:\n",
    "\n",
    "- CBD:                    2\n",
    "- Oakland:                5\n",
    "- South Side:             3\n",
    "- Shadyside:              4\n",
    "- Homewood:               1 \n",
    " \n",
    "\n",
    "\n",
    "Arrests:\n",
    "\n",
    "- CBD:          1\n",
    "- Oakland:      5\n",
    "- South Side:   2\n",
    "- Shadyside:    4\n",
    "- Homewood:     3 \n",
    "\n",
    "\n",
    "\n",
    "311:\n",
    "\n",
    "- CBD:          2\n",
    "- Oakland:      1\n",
    "- South Side:   4  \n",
    "- Shadyside:    5\n",
    "- Homewood:     3\n",
    "\n",
    "\n",
    "\n",
    "Total:\n",
    "\n",
    "- CBD:          5\n",
    "- Oakland:      11\n",
    "- South Side:   9\n",
    "- Shadyside:    13\n",
    "- Homewood:     7 \n",
    " "
   ]
  },
  {
   "cell_type": "code",
   "execution_count": 144,
   "metadata": {},
   "outputs": [
    {
     "data": {
      "image/png": "[encoded data removed]",
      "text/plain": [
       "<Figure size 432x288 with 1 Axes>"
      ]
     },
     "metadata": {
      "needs_background": "light"
     },
     "output_type": "display_data"
    }
   ],
   "source": [
    "import pandas as pd\n",
    "\n",
    "df = pd.DataFrame({'Neighborhood':['Oakland', 'Shadyside', 'Homewood', 'Downtown', 'Southside'], \n",
    "                   'Ranking Score':[11, 13, 7, 5, 9]})\n",
    "ax = df.plot.bar(x='Neighborhood', y='Ranking Score', rot=0)"
   ]
  },
  {
   "cell_type": "markdown",
   "metadata": {},
   "source": [
    "## Overall, Shadyside wins our scoring system for the best neighborhood. Following Shadyside is Oakland, then Southside, then Homewood, and lastly, the Central Business District (or Downtown)."
   ]
  }
 ],
 "metadata": {
  "kernelspec": {
   "display_name": "Python 3",
   "language": "python",
   "name": "python3"
  },
  "language_info": {
   "codemirror_mode": {
    "name": "ipython",
    "version": 3
   },
   "file_extension": ".py",
   "mimetype": "text/x-python",
   "name": "python",
   "nbconvert_exporter": "python",
   "pygments_lexer": "ipython3",
   "version": "3.8.3"
  }
 },
 "nbformat": 4,
 "nbformat_minor": 4
}
